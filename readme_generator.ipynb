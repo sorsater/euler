{
 "cells": [
  {
   "cell_type": "code",
   "execution_count": 1,
   "metadata": {},
   "outputs": [],
   "source": [
    "import math\n",
    "import os"
   ]
  },
  {
   "cell_type": "markdown",
   "metadata": {},
   "source": [
    "## Calculate progress in percent"
   ]
  },
  {
   "cell_type": "code",
   "execution_count": 2,
   "metadata": {},
   "outputs": [],
   "source": [
    "def calculate_progress(max_num, completed):\n",
    "    progress = 100 * len(completed) / max_num\n",
    "    return f'{progress:.2f}%'"
   ]
  },
  {
   "cell_type": "markdown",
   "metadata": {},
   "source": [
    "## Iterate through all folders and find files"
   ]
  },
  {
   "cell_type": "code",
   "execution_count": 3,
   "metadata": {},
   "outputs": [],
   "source": [
    "def get_completed_tasks():\n",
    "    completed = []\n",
    "    for folder in os.listdir():\n",
    "        if '00' in folder:\n",
    "            for file_name in os.listdir(os.path.join(folder)):\n",
    "                if 'checkpoints' in file_name:\n",
    "                    continue\n",
    "                completed.append(int(file_name.strip('.ipynb')))\n",
    "                \n",
    "    return completed"
   ]
  },
  {
   "cell_type": "markdown",
   "metadata": {},
   "source": [
    "## Generate table"
   ]
  },
  {
   "cell_type": "code",
   "execution_count": 4,
   "metadata": {},
   "outputs": [],
   "source": [
    "def create_table(elems, completed):\n",
    "    width, height = [int(math.sqrt(elems))] * 2\n",
    "    table = '<table>'\n",
    "    for w in range(width):\n",
    "        row_used = False\n",
    "        if not completed:\n",
    "            break\n",
    "        table += '<tr>'\n",
    "        for h in range(height):\n",
    "            number = w * width + h + 1\n",
    "            if number in completed:\n",
    "                completed.remove(number)\n",
    "                table += f'<td>{number}</td>'\n",
    "                row_used = True\n",
    "            else:\n",
    "                if h == height - 1 and not row_used:\n",
    "                    table += f'<td>&nbsp;</td>'\n",
    "                else:\n",
    "                    table += f'<td></td>'\n",
    "        table += '</tr>\\n'    \n",
    "    table += '</table>'\n",
    "    \n",
    "    return table"
   ]
  },
  {
   "cell_type": "code",
   "execution_count": 5,
   "metadata": {},
   "outputs": [],
   "source": [
    "completed = get_completed_tasks()\n",
    "progress = calculate_progress(701, completed)\n",
    "table = create_table(100, completed)\n",
    "\n",
    "heading = f'''\n",
    "# euler\n",
    "Project Euler\n",
    "\n",
    "## Progress\n",
    "{progress}\n",
    "\n",
    "'''\n",
    "\n",
    "with open('README.md', 'w') as f:\n",
    "    for line in heading:\n",
    "        f.write(line)\n",
    "    for line in table:\n",
    "        f.write(line)"
   ]
  }
 ],
 "metadata": {
  "kernelspec": {
   "display_name": "Python 3",
   "language": "python",
   "name": "python3"
  },
  "language_info": {
   "codemirror_mode": {
    "name": "ipython",
    "version": 3
   },
   "file_extension": ".py",
   "mimetype": "text/x-python",
   "name": "python",
   "nbconvert_exporter": "python",
   "pygments_lexer": "ipython3",
   "version": "3.7.3"
  }
 },
 "nbformat": 4,
 "nbformat_minor": 2
}
