{
 "cells": [
  {
   "cell_type": "markdown",
   "metadata": {},
   "source": [
    "In the United Kingdom the currency is made up of pound (£) and pence (p). There are eight coins in general circulation:\n",
    "\n",
    "1p, 2p, 5p, 10p, 20p, 50p, £1 (100p), and £2 (200p).\n",
    "It is possible to make £2 in the following way:\n",
    "\n",
    "1×£1 + 1×50p + 2×20p + 1×5p + 1×2p + 3×1p\n",
    "How many different ways can £2 be made using any number of coins?"
   ]
  },
  {
   "cell_type": "markdown",
   "metadata": {},
   "source": [
    "## Define ranges for all values"
   ]
  },
  {
   "cell_type": "code",
   "execution_count": 1,
   "metadata": {},
   "outputs": [],
   "source": [
    "import itertools\n",
    "import time"
   ]
  },
  {
   "cell_type": "code",
   "execution_count": 2,
   "metadata": {},
   "outputs": [],
   "source": [
    "one = list(range(0, 201, 1))\n",
    "two = list(range(0, 201, 2))\n",
    "five = list(range(0, 201, 5))\n",
    "ten = list(range(0, 201, 10))\n",
    "twenty = list(range(0, 201, 20))\n",
    "fifty = list(range(0, 201, 50))\n",
    "hundred = list(range(0, 201, 100))"
   ]
  },
  {
   "cell_type": "markdown",
   "metadata": {},
   "source": [
    "## Quick and dirty\n",
    "This will take a long time to iterate over all numbers.  \n",
    "First we will do this brute force than work on some improvements.  \n",
    "\n",
    "The 2£ will be removed. Because can't exist with others."
   ]
  },
  {
   "cell_type": "code",
   "execution_count": 3,
   "metadata": {},
   "outputs": [
    {
     "name": "stdout",
     "output_type": "stream",
     "text": [
      "73682\n",
      "Took: 855.93 seconds\n"
     ]
    }
   ],
   "source": [
    "start = time.time()\n",
    "    \n",
    "combinations = 1 # 2£\n",
    "prev_sum = 0\n",
    "for all_values in itertools.product(one, two, five, ten, twenty, fifty, hundred):\n",
    "    if sum(all_values) == 200:\n",
    "        combinations += 1\n",
    "\n",
    "print(combinations)\n",
    "print('Took: {:.2f} seconds'.format(time.time() - start))"
   ]
  },
  {
   "cell_type": "markdown",
   "metadata": {},
   "source": [
    "## Reduce complexity\n",
    "As before, ignore 200.  \n",
    "We notice that for it to work, the sum of 1 and 2 and 5 must be divisable with 10.  \n",
    "We also notice that the total sum must always sum to 100 for it to be worth to include 100 so we can skip 100 and instead add one more at the start (100 + 100)"
   ]
  },
  {
   "cell_type": "code",
   "execution_count": 4,
   "metadata": {},
   "outputs": [
    {
     "name": "stdout",
     "output_type": "stream",
     "text": [
      "73682\n",
      "Took: 58.21 seconds\n"
     ]
    }
   ],
   "source": [
    "start = time.time()\n",
    "    \n",
    "combinations = 2 # 2£ and 2*1£\n",
    "prev_sum = 0\n",
    "for one_two_five in itertools.product(one, two, five):\n",
    "    if sum(one_two_five) % 10 != 0:\n",
    "        continue\n",
    "    for rest in itertools.product(ten, twenty, fifty):\n",
    "        if sum(rest) + sum(one_two_five) in [100, 200]:\n",
    "            combinations += 1\n",
    "\n",
    "print(combinations)\n",
    "print('Took: {:.2f} seconds'.format(time.time() - start))"
   ]
  }
 ],
 "metadata": {
  "kernelspec": {
   "display_name": "Python 3",
   "language": "python",
   "name": "python3"
  },
  "language_info": {
   "codemirror_mode": {
    "name": "ipython",
    "version": 3
   },
   "file_extension": ".py",
   "mimetype": "text/x-python",
   "name": "python",
   "nbconvert_exporter": "python",
   "pygments_lexer": "ipython3",
   "version": "3.7.3"
  }
 },
 "nbformat": 4,
 "nbformat_minor": 2
}
