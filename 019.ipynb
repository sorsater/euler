{
 "cells": [
  {
   "cell_type": "markdown",
   "metadata": {},
   "source": [
    "You are given the following information, but you may prefer to do some research for yourself.\n",
    "\n",
    "1 Jan 1900 was a Monday.  \n",
    "Thirty days has September,  \n",
    "April, June and November.  \n",
    "All the rest have thirty-one,  \n",
    "Saving February alone,  \n",
    "Which has twenty-eight, rain or shine.  \n",
    "And on leap years, twenty-nine.  \n",
    "\n",
    "A leap year occurs on any year evenly divisible by 4, but not on a century unless it is divisible by 400.\n",
    "How many Sundays fell on the first of the month during the twentieth century (1 Jan 1901 to 31 Dec 2000)?"
   ]
  },
  {
   "cell_type": "code",
   "execution_count": 1,
   "metadata": {},
   "outputs": [],
   "source": [
    "def is_leap_year(year):\n",
    "    if year % 400 == 0:\n",
    "        return False\n",
    "    if year % 4 == 0:\n",
    "        return True\n",
    "    return False"
   ]
  },
  {
   "cell_type": "markdown",
   "metadata": {},
   "source": [
    "## Set up month map"
   ]
  },
  {
   "cell_type": "code",
   "execution_count": 2,
   "metadata": {},
   "outputs": [],
   "source": [
    "cur_date = [1901, 1, 1]\n",
    "end_date = [2000, 12, 31]\n",
    "\n",
    "month_map = {\n",
    "    1: 31,  # January\n",
    "    2: 28,  # Februari\n",
    "    3: 31,  # March\n",
    "    4: 30,  # April\n",
    "    5: 31,  # May\n",
    "    6: 30,  # June\n",
    "    7: 31,  # July\n",
    "    8: 31,  # August\n",
    "    9: 30,  # September\n",
    "    10: 31,  # October\n",
    "    11: 30, # November\n",
    "    12: 31, # December\n",
    "}"
   ]
  },
  {
   "cell_type": "markdown",
   "metadata": {},
   "source": [
    "## Run through calendar"
   ]
  },
  {
   "cell_type": "code",
   "execution_count": 3,
   "metadata": {},
   "outputs": [],
   "source": [
    "# start date is a tuesday (wiki)\n",
    "weekday = 1\n",
    "sundays = []\n",
    "while cur_date != end_date:        \n",
    "    year, month, day = cur_date\n",
    "    \n",
    "    days_of_month = month_map[month]\n",
    "    if month == 1 and is_leap_year(year):\n",
    "        days_of_month += 1\n",
    "    \n",
    "    # Day max, update day and month\n",
    "    if day == days_of_month:\n",
    "        day = 0\n",
    "        month += 1\n",
    "    # Month max, update month and year\n",
    "    if month == 13:\n",
    "        month = 1\n",
    "        year += 1\n",
    "        \n",
    "    # Update weekday\n",
    "    weekday += 1\n",
    "    if weekday % 7 == 0:\n",
    "        weekday = 0\n",
    "    \n",
    "    if weekday == 6 and day == 6:\n",
    "        sundays.append(cur_date)\n",
    "        \n",
    "    day += 1    \n",
    "    cur_date = [year, month, day]"
   ]
  },
  {
   "cell_type": "markdown",
   "metadata": {},
   "source": [
    "## Answer"
   ]
  },
  {
   "cell_type": "code",
   "execution_count": 4,
   "metadata": {},
   "outputs": [
    {
     "name": "stdout",
     "output_type": "stream",
     "text": [
      "171\n"
     ]
    }
   ],
   "source": [
    "print(len(sundays))"
   ]
  }
 ],
 "metadata": {
  "kernelspec": {
   "display_name": "Python 3",
   "language": "python",
   "name": "python3"
  },
  "language_info": {
   "codemirror_mode": {
    "name": "ipython",
    "version": 3
   },
   "file_extension": ".py",
   "mimetype": "text/x-python",
   "name": "python",
   "nbconvert_exporter": "python",
   "pygments_lexer": "ipython3",
   "version": "3.7.3"
  }
 },
 "nbformat": 4,
 "nbformat_minor": 2
}
