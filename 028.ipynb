{
 "cells": [
  {
   "cell_type": "markdown",
   "metadata": {},
   "source": [
    "Starting with the number 1 and moving to the right in a clockwise direction a 5 by 5 spiral is formed as follows:\n",
    "\n",
    "```\n",
    "21 22 23 24 25  \n",
    "20  7  8  9 10  \n",
    "19  6  1  2 11  \n",
    "18  5  4  3 12  \n",
    "17 16 15 14 13  \n",
    "```\n",
    "\n",
    "It can be verified that the sum of the numbers on the diagonals is 101.\n",
    "\n",
    "What is the sum of the numbers on the diagonals in a 1001 by 1001 spiral formed in the same way?"
   ]
  },
  {
   "cell_type": "markdown",
   "metadata": {},
   "source": [
    "## Analysis\n",
    "We can see an interesting property here. In the top-right corner we have the number 25, 5^2 and inside 9 3^2.\n",
    "We can use this property to calculate the values in the top right corner.  \n",
    "\n",
    "We know that the values always follow a simple pattern.  \n",
    "At index 2 (0=1, 1=3, 2=5). 2^5 = 25 we see that:\n",
    "* the distance to the previous value (21) is 4 (2x2) -> 25-2*2\n",
    "* before that (17) is 25-4x2\n",
    "* before that (13) is 25-6x2\n",
    "\n",
    "We use this property to generate the diagonal.\n",
    "\n",
    "By doing it like this we can count the spiral without actually generating it."
   ]
  },
  {
   "cell_type": "code",
   "execution_count": 1,
   "metadata": {},
   "outputs": [],
   "source": [
    "def calculate_diagonal(spiral_size):\n",
    "    res = set() # Use set to avoid 4 '1' in beginning\n",
    "    for idx, val in enumerate(range(1, spiral_size + 1, 2)):\n",
    "        res.add(val**2) # Top right\n",
    "        res.add(val**2 - idx*2) # Top left\n",
    "        res.add(val**2 - idx*4) # Bottom left\n",
    "        res.add(val**2 - idx*6) # Bottom right\n",
    "        \n",
    "    print(sum(res))"
   ]
  },
  {
   "cell_type": "markdown",
   "metadata": {},
   "source": [
    "## Test"
   ]
  },
  {
   "cell_type": "code",
   "execution_count": 2,
   "metadata": {},
   "outputs": [
    {
     "name": "stdout",
     "output_type": "stream",
     "text": [
      "101\n"
     ]
    }
   ],
   "source": [
    "calculate_diagonal(5)"
   ]
  },
  {
   "cell_type": "markdown",
   "metadata": {},
   "source": [
    "## Answer"
   ]
  },
  {
   "cell_type": "code",
   "execution_count": 3,
   "metadata": {},
   "outputs": [
    {
     "name": "stdout",
     "output_type": "stream",
     "text": [
      "669171001\n"
     ]
    }
   ],
   "source": [
    "calculate_diagonal(1001)"
   ]
  }
 ],
 "metadata": {
  "kernelspec": {
   "display_name": "Python 3",
   "language": "python",
   "name": "python3"
  },
  "language_info": {
   "codemirror_mode": {
    "name": "ipython",
    "version": 3
   },
   "file_extension": ".py",
   "mimetype": "text/x-python",
   "name": "python",
   "nbconvert_exporter": "python",
   "pygments_lexer": "ipython3",
   "version": "3.7.3"
  }
 },
 "nbformat": 4,
 "nbformat_minor": 2
}
