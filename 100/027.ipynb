{
 "cells": [
  {
   "cell_type": "markdown",
   "metadata": {},
   "source": [
    "Euler discovered the remarkable quadratic formula:\n",
    "\n",
    "n^2+n+41  \n",
    "\n",
    "It turns out that the formula will produce 40 primes for the consecutive integer values 0≤n≤39. However, when n=40,40^2+40+41=40(40+1)+41 is divisible by 41, and certainly when n=41,41^2+41+41 is clearly divisible by 41.\n",
    "\n",
    "The incredible formula n^2−79n+1601 was discovered, which produces 80 primes for the consecutive values 0≤n≤79. The product of the coefficients, −79 and 1601, is −126479.\n",
    "\n",
    "Considering quadratics of the form:\n",
    "\n",
    "n^2+an+b, where |a|<1000 and |b|≤1000\n",
    "\n",
    "where |n| is the modulus/absolute value of n\n",
    "e.g. |11|=11 and |−4|=4\n",
    "Find the product of the coefficients, a and b, for the quadratic expression that produces the maximum number of primes for consecutive values of n, starting with n=0."
   ]
  },
  {
   "cell_type": "code",
   "execution_count": 1,
   "metadata": {},
   "outputs": [],
   "source": [
    "from euler import is_prime"
   ]
  },
  {
   "cell_type": "code",
   "execution_count": 2,
   "metadata": {},
   "outputs": [],
   "source": [
    "def formula(a, b, n):\n",
    "    return n**2 + a * n + b\n",
    "\n",
    "def test_coeffs(a, b):\n",
    "    n = 1\n",
    "    while True:\n",
    "        #print(formula(a, b, n))\n",
    "        val = formula(a, b, n)\n",
    "        #print(val)\n",
    "        if val < 0 or not is_prime(val):\n",
    "            break\n",
    "        n += 1\n",
    "    return n"
   ]
  },
  {
   "cell_type": "markdown",
   "metadata": {},
   "source": [
    "## Answer"
   ]
  },
  {
   "cell_type": "code",
   "execution_count": 3,
   "metadata": {},
   "outputs": [],
   "source": [
    "res = []\n",
    "for a in range(-999, 1000):\n",
    "    for b in range(-1000, 1001):\n",
    "        res.append([test_coeffs(a, b), a, b])"
   ]
  },
  {
   "cell_type": "code",
   "execution_count": 4,
   "metadata": {},
   "outputs": [],
   "source": [
    "n, a, b = sorted(res)[-1]"
   ]
  },
  {
   "cell_type": "code",
   "execution_count": 5,
   "metadata": {},
   "outputs": [
    {
     "name": "stdout",
     "output_type": "stream",
     "text": [
      "-59231\n"
     ]
    }
   ],
   "source": [
    "print(a * b)"
   ]
  }
 ],
 "metadata": {
  "kernelspec": {
   "display_name": "Python 3",
   "language": "python",
   "name": "python3"
  },
  "language_info": {
   "codemirror_mode": {
    "name": "ipython",
    "version": 3
   },
   "file_extension": ".py",
   "mimetype": "text/x-python",
   "name": "python",
   "nbconvert_exporter": "python",
   "pygments_lexer": "ipython3",
   "version": "3.7.3"
  }
 },
 "nbformat": 4,
 "nbformat_minor": 2
}
