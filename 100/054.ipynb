{
 "cells": [
  {
   "cell_type": "markdown",
   "metadata": {},
   "source": [
    "In the card game poker, a hand consists of five cards and are ranked, from lowest to highest, in the following way:\n",
    "\n",
    "```\n",
    "High Card: Highest value card.\n",
    "One Pair: Two cards of the same value.\n",
    "Two Pairs: Two different pairs.\n",
    "Three of a Kind: Three cards of the same value.\n",
    "Straight: All cards are consecutive values.\n",
    "Flush: All cards of the same suit.\n",
    "Full House: Three of a kind and a pair.\n",
    "Four of a Kind: Four cards of the same value.\n",
    "Straight Flush: All cards are consecutive values of same suit.\n",
    "Royal Flush: Ten, Jack, Queen, King, Ace, in same suit.\n",
    "The cards are valued in the order:\n",
    "2, 3, 4, 5, 6, 7, 8, 9, 10, Jack, Queen, King, Ace.\n",
    "```\n",
    "\n",
    "If two players have the same ranked hands then the rank made up of the highest value wins; for example, a pair of eights beats a pair of fives (see example 1 below). But if two ranks tie, for example, both players have a pair of queens, then highest cards in each hand are compared (see example 4 below); if the highest cards tie then the next highest cards are compared, and so on.\n",
    "\n",
    "Consider the following five hands dealt to two players:\n",
    "\n",
    "EXAMPLES\n",
    "\n",
    "The file, poker.txt, contains one-thousand random hands dealt to two players. Each line of the file contains ten cards (separated by a single space): the first five are Player 1's cards and the last five are Player 2's cards. You can assume that all hands are valid (no invalid characters or repeated cards), each player's hand is in no specific order, and in each hand there is a clear winner.\n",
    "\n",
    "How many hands does Player 1 win?"
   ]
  },
  {
   "cell_type": "code",
   "execution_count": 1,
   "metadata": {},
   "outputs": [],
   "source": [
    "from collections import Counter"
   ]
  },
  {
   "cell_type": "code",
   "execution_count": 2,
   "metadata": {},
   "outputs": [],
   "source": [
    "data = open('../inputs/054.txt').read().splitlines()\n",
    "cards = '23456789TJQKA'\n",
    "\n",
    "hands = []\n",
    "for line in data:\n",
    "    vals = line.split(' ')\n",
    "    hands.append([vals[:5], vals[5:]])"
   ]
  },
  {
   "cell_type": "markdown",
   "metadata": {},
   "source": [
    "# Analyze hand"
   ]
  },
  {
   "cell_type": "code",
   "execution_count": 3,
   "metadata": {},
   "outputs": [],
   "source": [
    "def one_pair(hand):\n",
    "    values = [val for val, suit in hand]\n",
    "    for key, val in Counter(values).items():\n",
    "        if val == 2:\n",
    "            return True, cards.index(key)\n",
    "    return False, False\n",
    "\n",
    "def two_pairs(hand):\n",
    "    values = [val for val, suit in hand]\n",
    "    pairs = []\n",
    "    for key, val in Counter(values).items():\n",
    "        if val == 2:\n",
    "            pairs.append(cards.index(key))\n",
    "    pairs = list(map(int, pairs))\n",
    "    if len(pairs) == 2:\n",
    "        return True, max(pairs), min(pairs)\n",
    "    return False, None, None\n",
    "\n",
    "def three_of_a_kind(hand):\n",
    "    values = [val for val, suit in hand]\n",
    "    for key, val in Counter(values).items():\n",
    "        if val == 3:\n",
    "            return True, cards.index(key)\n",
    "    return False, False\n",
    "\n",
    "def four_of_a_kind(hand):\n",
    "    values = [val for val, suit in hand]\n",
    "    for key, val in Counter(values).items():\n",
    "        if val == 4:\n",
    "            return True, cards.index(key)\n",
    "    return False, False\n",
    "\n",
    "def straight(hand):\n",
    "    idxs = [cards.index(val) for val, suit in hand]\n",
    "    idxs.sort()\n",
    "    values = [cards[idx] for idx in idxs] \n",
    "    return ''.join(values) in cards, max(idxs)\n",
    "\n",
    "def flush(hand):\n",
    "    suits = set()\n",
    "    val_idx = []\n",
    "    for val, suit in hand:\n",
    "        suits.add(suit)\n",
    "        val_idx.append(cards.index(val))\n",
    "    return len(suits) == 1, max(val_idx)\n",
    "\n",
    "def highest_card(hand1, hand2):\n",
    "    hand1 = [val for val, suit in hand1]\n",
    "    hand2 = [val for val, suit in hand2]\n",
    "    stripped_1, stripped_2 = [], []\n",
    "    for elem in hand1:\n",
    "        if elem not in hand2:\n",
    "            stripped_1.append(cards.index(elem))\n",
    "    for elem in hand2:\n",
    "        if elem not in hand1:\n",
    "            stripped_2.append(cards.index(elem))\n",
    "    if max(stripped_1) > max(stripped_2):\n",
    "        return True\n",
    "    return False"
   ]
  },
  {
   "cell_type": "markdown",
   "metadata": {},
   "source": [
    "# Classify one hand\n",
    "Use scoring for the hands.  \n",
    "If additional cards are interesting (e.g. highest three_of_a_kind) return the highest card"
   ]
  },
  {
   "cell_type": "code",
   "execution_count": 4,
   "metadata": {},
   "outputs": [],
   "source": [
    "def classify_hand(hand):\n",
    "    is_flush, flush_max = flush(hand)\n",
    "    is_straight, straight_max = straight(hand)\n",
    "    is_four, four_max = four_of_a_kind(hand)\n",
    "    is_three, three_max = three_of_a_kind(hand)\n",
    "    is_pair2, pair2_max1, pair2_max2 = two_pairs(hand)\n",
    "    is_pair, pair_max = one_pair(hand)\n",
    "    \n",
    "    if is_flush and is_straight:\n",
    "        return 10000 + straight_max\n",
    "    if is_four:\n",
    "        return 9000 + four_max\n",
    "    if is_three and is_pair:\n",
    "        return 8000 + 20 * three_max + pair_max\n",
    "    if is_flush:\n",
    "        return 7000 + flush_max\n",
    "    if is_straight:\n",
    "        return 6000 + straight_max\n",
    "    if is_three:\n",
    "        return 5000 + three_max\n",
    "    if is_pair2:\n",
    "        return 4000 + 20 * pair2_max1 + pair2_max2\n",
    "    if is_pair:\n",
    "        return 3000 + pair_max\n",
    "    \n",
    "    # Nothing found, leave to highest card\n",
    "    return -1"
   ]
  },
  {
   "cell_type": "code",
   "execution_count": 5,
   "metadata": {},
   "outputs": [
    {
     "name": "stdout",
     "output_type": "stream",
     "text": [
      "376\n"
     ]
    }
   ],
   "source": [
    "player1 = 0\n",
    "for hand1, hand2 in hands:\n",
    "    points_1 = classify_hand(hand1)\n",
    "    points_2 = classify_hand(hand2)\n",
    "    \n",
    "    # Nothing better than highest card\n",
    "    if points_1 == points_2:\n",
    "        if highest_card(hand1, hand2):\n",
    "            player1 += 1\n",
    "        continue\n",
    "    \n",
    "    if points_1 > points_2:\n",
    "        player1 += 1\n",
    "print(player1)"
   ]
  }
 ],
 "metadata": {
  "kernelspec": {
   "display_name": "Python 3",
   "language": "python",
   "name": "python3"
  },
  "language_info": {
   "codemirror_mode": {
    "name": "ipython",
    "version": 3
   },
   "file_extension": ".py",
   "mimetype": "text/x-python",
   "name": "python",
   "nbconvert_exporter": "python",
   "pygments_lexer": "ipython3",
   "version": "3.7.3"
  }
 },
 "nbformat": 4,
 "nbformat_minor": 2
}
