{
 "cells": [
  {
   "cell_type": "markdown",
   "metadata": {},
   "source": [
    "Consider the fraction, n/d, where n and d are positive integers. If n<d and HCF(n,d)=1, it is called a reduced proper fraction.\n",
    "\n",
    "If we list the set of reduced proper fractions for d ≤ 8 in ascending order of size, we get:\n",
    "\n",
    "1/8, 1/7, 1/6, 1/5, 1/4, 2/7, 1/3, 3/8, 2/5, 3/7, 1/2, 4/7, 3/5, 5/8, 2/3, 5/7, 3/4, 4/5, 5/6, 6/7, 7/8\n",
    "\n",
    "It can be seen that 2/5 is the fraction immediately to the left of 3/7.\n",
    "\n",
    "By listing the set of reduced proper fractions for d ≤ 1,000,000 in ascending order of size, find the numerator of the fraction immediately to the left of 3/7."
   ]
  },
  {
   "cell_type": "code",
   "execution_count": 1,
   "metadata": {},
   "outputs": [],
   "source": [
    "from math import gcd\n",
    "import sys\n",
    "sys.path.append('..')\n",
    "from euler import Progress"
   ]
  },
  {
   "cell_type": "markdown",
   "metadata": {},
   "source": [
    "## Analysis\n",
    "I use a standard double for loop solution with more clever ranges.  \n",
    "1. We don't need to loop the numerator longer than max_val x goal value\n",
    "2. The same (but inversed) for the denominator.\n",
    "3. I use a tolerance value for the ranges on the denominator. Took really long time to process so tried different values until i found a value that gave me a result."
   ]
  },
  {
   "cell_type": "code",
   "execution_count": 2,
   "metadata": {},
   "outputs": [],
   "source": [
    "def generate_fractions(max_val, tolerance):\n",
    "    bar = Progress()\n",
    "    goal = 3/7\n",
    "    flipped_goal = 7/3\n",
    "    best = [0, 0, 0]\n",
    "    \n",
    "    lower_num = 1\n",
    "    upper_num = int(max_val * goal) + 1\n",
    "    \n",
    "    for idx, num in enumerate(range(lower_num, upper_num)):\n",
    "        if idx % 1000 == 0:\n",
    "            bar.tick((idx+1)/ (max_val // 2))\n",
    "        \n",
    "        lower_den = int((1 - tolerance) * num * flipped_goal)\n",
    "        upper_den = int((1 + tolerance) * num * flipped_goal)\n",
    "        \n",
    "        for den in range(lower_den, upper_den):\n",
    "            tmp = num / den\n",
    "            if tmp > best[0] and tmp < goal: \n",
    "                if gcd(num, den) != 1:\n",
    "                    continue\n",
    "                best = [tmp, num, den]\n",
    "    bar.tick(1)\n",
    "    print(best)\n",
    "    print(best[1])"
   ]
  },
  {
   "cell_type": "markdown",
   "metadata": {},
   "source": [
    "## Answer"
   ]
  },
  {
   "cell_type": "code",
   "execution_count": 3,
   "metadata": {},
   "outputs": [
    {
     "name": "stdout",
     "output_type": "stream",
     "text": [
      "Progress: [##############################] 100.00% 2.7 seconds\n",
      "[0.42857128571385716, 428570, 999997]\n",
      "428570\n"
     ]
    }
   ],
   "source": [
    "generate_fractions(10**6, tolerance=10**-5)"
   ]
  }
 ],
 "metadata": {
  "kernelspec": {
   "display_name": "Python 3",
   "language": "python",
   "name": "python3"
  },
  "language_info": {
   "codemirror_mode": {
    "name": "ipython",
    "version": 3
   },
   "file_extension": ".py",
   "mimetype": "text/x-python",
   "name": "python",
   "nbconvert_exporter": "python",
   "pygments_lexer": "ipython3",
   "version": "3.7.3"
  }
 },
 "nbformat": 4,
 "nbformat_minor": 2
}
