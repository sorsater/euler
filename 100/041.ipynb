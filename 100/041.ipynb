{
 "cells": [
  {
   "cell_type": "markdown",
   "metadata": {},
   "source": [
    "We shall say that an n-digit number is pandigital if it makes use of all the digits 1 to n exactly once. For example, 2143 is a 4-digit pandigital and is also prime.\n",
    "\n",
    "What is the largest n-digit pandigital prime that exists?"
   ]
  },
  {
   "cell_type": "code",
   "execution_count": 1,
   "metadata": {},
   "outputs": [],
   "source": [
    "import sys\n",
    "sys.path.append('..')\n",
    "from euler import is_prime\n",
    "from itertools import permutations"
   ]
  },
  {
   "cell_type": "code",
   "execution_count": 2,
   "metadata": {},
   "outputs": [],
   "source": [
    "def is_pandigital(n):\n",
    "    true_pan = ''.join(map(str, list(range(1, len(str(n)) + 1))))\n",
    "    if ''.join(sorted(str(n))) == true_pan:\n",
    "        return True\n",
    "    return False    "
   ]
  },
  {
   "cell_type": "code",
   "execution_count": 3,
   "metadata": {},
   "outputs": [
    {
     "name": "stdout",
     "output_type": "stream",
     "text": [
      "7652413\n"
     ]
    }
   ],
   "source": [
    "valid = []\n",
    "for i in range(1, 10):\n",
    "    for perm in permutations(range(1, i + 1)):\n",
    "        # Ignore simple non primes\n",
    "        if perm[-1] % 2 == 0:\n",
    "            continue\n",
    "        if perm[-1] % 5 == 0:\n",
    "            continue\n",
    "        \n",
    "        num = int(''.join(map(str, perm)))\n",
    "        if is_prime(num):\n",
    "            if is_pandigital(num):\n",
    "                valid.append(num)\n",
    "print(max(valid))"
   ]
  }
 ],
 "metadata": {
  "kernelspec": {
   "display_name": "Python 3",
   "language": "python",
   "name": "python3"
  },
  "language_info": {
   "codemirror_mode": {
    "name": "ipython",
    "version": 3
   },
   "file_extension": ".py",
   "mimetype": "text/x-python",
   "name": "python",
   "nbconvert_exporter": "python",
   "pygments_lexer": "ipython3",
   "version": "3.7.3"
  }
 },
 "nbformat": 4,
 "nbformat_minor": 2
}
