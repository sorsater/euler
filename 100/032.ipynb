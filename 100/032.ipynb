{
 "cells": [
  {
   "cell_type": "markdown",
   "metadata": {},
   "source": [
    "We shall say that an n-digit number is pandigital if it makes use of all the digits 1 to n exactly once; for example, the 5-digit number, 15234, is 1 through 5 pandigital.\n",
    "\n",
    "The product 7254 is unusual, as the identity, 39 × 186 = 7254, containing multiplicand, multiplier, and product is 1 through 9 pandigital.\n",
    "\n",
    "Find the sum of all products whose multiplicand/multiplier/product identity can be written as a 1 through 9 pandigital.\n",
    "\n",
    "HINT: Some products can be obtained in more than one way so be sure to only include it once in your sum."
   ]
  },
  {
   "cell_type": "code",
   "execution_count": 1,
   "metadata": {},
   "outputs": [],
   "source": [
    "import sys\n",
    "sys.path.append('..')\n",
    "from euler import Progress, factorial\n",
    "from itertools import permutations"
   ]
  },
  {
   "cell_type": "markdown",
   "metadata": {},
   "source": [
    "## Answer\n",
    "The idea here is to take all permuations of 1...9 and then compute all possible slices.  \n",
    "When we have those, we just ensure if they satisfy the criteria."
   ]
  },
  {
   "cell_type": "code",
   "execution_count": 2,
   "metadata": {},
   "outputs": [
    {
     "name": "stdout",
     "output_type": "stream",
     "text": [
      "Progress: [##############################] 100.0% 28.4 seconds\n",
      "45228\n"
     ]
    }
   ],
   "source": [
    "tot_length = 9\n",
    "valids = set()\n",
    "# Reduce the slices to avoid bad indexing\n",
    "slices = list(range(1, tot_length - 2))\n",
    "\n",
    "# Number of permutations is: n! / (n-r)!.\n",
    "# In this case (n-r) == 0 so only n! is needed\n",
    "num_permutations = factorial(tot_length)\n",
    "\n",
    "bar = Progress()\n",
    "for idx, perm in enumerate(permutations(range(1, tot_length + 1))):\n",
    "    if idx % 1000 == 0:\n",
    "        bar.tick((idx + 1) / num_permutations)\n",
    "    \n",
    "    for mult in slices:\n",
    "        for equal in slices:\n",
    "            if equal < (mult + 1):\n",
    "                continue\n",
    "            \n",
    "            multiplicand = int(''.join(map(str, perm[:mult])))\n",
    "            multiplier = int(''.join(map(str, perm[mult:equal])))\n",
    "            product = int(''.join(map(str, perm[equal:])))\n",
    "\n",
    "            if multiplicand * multiplier == product:\n",
    "                valids.add(product)\n",
    "\n",
    "bar.tick(1)\n",
    "print(sum(valids))"
   ]
  }
 ],
 "metadata": {
  "kernelspec": {
   "display_name": "Python 3",
   "language": "python",
   "name": "python3"
  },
  "language_info": {
   "codemirror_mode": {
    "name": "ipython",
    "version": 3
   },
   "file_extension": ".py",
   "mimetype": "text/x-python",
   "name": "python",
   "nbconvert_exporter": "python",
   "pygments_lexer": "ipython3",
   "version": "3.7.3"
  }
 },
 "nbformat": 4,
 "nbformat_minor": 2
}
