{
 "cells": [
  {
   "cell_type": "markdown",
   "metadata": {},
   "source": [
    "The number, 197, is called a circular prime because all rotations of the digits: 197, 971, and 719, are themselves prime.\n",
    "\n",
    "There are thirteen such primes below 100: 2, 3, 5, 7, 11, 13, 17, 31, 37, 71, 73, 79, and 97.\n",
    "\n",
    "How many circular primes are there below one million?"
   ]
  },
  {
   "cell_type": "code",
   "execution_count": 1,
   "metadata": {},
   "outputs": [],
   "source": [
    "import sys\n",
    "sys.path.append('..')\n",
    "from euler import is_prime, Progress"
   ]
  },
  {
   "cell_type": "code",
   "execution_count": 2,
   "metadata": {},
   "outputs": [],
   "source": [
    "def number_permutations(n):\n",
    "    str_n = str(n)\n",
    "    return [int(str_n[idx:] + str_n[:idx]) for idx, digit in enumerate(str_n)]\n",
    "\n",
    "def circular_primes(n):\n",
    "    bar = Progress()\n",
    "    valid = []\n",
    "    for i in range(2, n):\n",
    "        if i % 10000 == 0:\n",
    "            bar.tick((i+1)/n)\n",
    "        for num in number_permutations(i):\n",
    "            if not is_prime(num):\n",
    "                break\n",
    "        else:\n",
    "            valid.append(i)\n",
    "    bar.tick(1)\n",
    "    print(len(valid))\n",
    "        \n",
    "        "
   ]
  },
  {
   "cell_type": "markdown",
   "metadata": {},
   "source": [
    "## Test"
   ]
  },
  {
   "cell_type": "code",
   "execution_count": 3,
   "metadata": {},
   "outputs": [],
   "source": [
    "circular_primes(100)"
   ]
  },
  {
   "cell_type": "markdown",
   "metadata": {},
   "source": [
    "## Answer"
   ]
  },
  {
   "cell_type": "code",
   "execution_count": 4,
   "metadata": {},
   "outputs": [
    {
     "name": "stdout",
     "output_type": "stream",
     "text": [
      "Progress: [##############################] 100.0% 7.4 seconds\n",
      "55\n"
     ]
    }
   ],
   "source": [
    "circular_primes(1000000)"
   ]
  }
 ],
 "metadata": {
  "kernelspec": {
   "display_name": "Python 3",
   "language": "python",
   "name": "python3"
  },
  "language_info": {
   "codemirror_mode": {
    "name": "ipython",
    "version": 3
   },
   "file_extension": ".py",
   "mimetype": "text/x-python",
   "name": "python",
   "nbconvert_exporter": "python",
   "pygments_lexer": "ipython3",
   "version": "3.7.3"
  }
 },
 "nbformat": 4,
 "nbformat_minor": 2
}
