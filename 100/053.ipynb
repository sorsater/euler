{
 "cells": [
  {
   "cell_type": "markdown",
   "metadata": {},
   "source": [
    "There are exactly ten ways of selecting three from five, 12345:\n",
    "\n",
    "123, 124, 125, 134, 135, 145, 234, 235, 245, and 345\n",
    "\n",
    "In combinatorics, we use the notation, (5 choose 3)=10.\n",
    "\n",
    "In general, (n choose r)=(n!)/(r!(n−r)!), where r≤n, n!=n×(n−1)×...×3×2×1, and 0!=1.\n",
    "\n",
    "It is not until n=23, that a value exceeds one-million: (23 choose 10)=1144066.\n",
    "\n",
    "How many, not necessarily distinct, values of (n choose r) for 1≤n≤100, are greater than one-million?"
   ]
  },
  {
   "cell_type": "code",
   "execution_count": 1,
   "metadata": {},
   "outputs": [],
   "source": [
    "import sys\n",
    "sys.path.append('..')\n",
    "from euler import factorial"
   ]
  },
  {
   "cell_type": "code",
   "execution_count": 2,
   "metadata": {},
   "outputs": [],
   "source": [
    "def n_choose_r(n, r):\n",
    "    n_fak = factorial(n)\n",
    "    r_fak = factorial(r)\n",
    "    a_fak = factorial(n-r)\n",
    "    \n",
    "    res = n_fak / (r_fak * a_fak)\n",
    "    if res > 1000000:\n",
    "        return True\n",
    "    return False\n",
    "    "
   ]
  },
  {
   "cell_type": "code",
   "execution_count": 3,
   "metadata": {},
   "outputs": [
    {
     "name": "stdout",
     "output_type": "stream",
     "text": [
      "4075\n"
     ]
    }
   ],
   "source": [
    "cntr = 0\n",
    "for n in range(1, 101):\n",
    "    for r in range(1, n+1):\n",
    "        cntr += n_choose_r(n, r)  \n",
    "print(cntr)"
   ]
  }
 ],
 "metadata": {
  "kernelspec": {
   "display_name": "Python 3",
   "language": "python",
   "name": "python3"
  },
  "language_info": {
   "codemirror_mode": {
    "name": "ipython",
    "version": 3
   },
   "file_extension": ".py",
   "mimetype": "text/x-python",
   "name": "python",
   "nbconvert_exporter": "python",
   "pygments_lexer": "ipython3",
   "version": "3.7.3"
  }
 },
 "nbformat": 4,
 "nbformat_minor": 2
}
