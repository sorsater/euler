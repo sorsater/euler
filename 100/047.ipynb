{
 "cells": [
  {
   "cell_type": "markdown",
   "metadata": {},
   "source": [
    "The first two consecutive numbers to have two distinct prime factors are:\n",
    "\n",
    "```\n",
    "14 = 2 × 7\n",
    "15 = 3 × 5\n",
    "```\n",
    "\n",
    "The first three consecutive numbers to have three distinct prime factors are:\n",
    "\n",
    "```\n",
    "644 = 2² × 7 × 23\n",
    "645 = 3 × 5 × 43\n",
    "646 = 2 × 17 × 19.\n",
    "```\n",
    "\n",
    "Find the first four consecutive integers to have four distinct prime factors each. What is the first of these numbers?"
   ]
  },
  {
   "cell_type": "code",
   "execution_count": 1,
   "metadata": {},
   "outputs": [],
   "source": [
    "import sys\n",
    "sys.path.append('..')\n",
    "from euler import is_prime, prime_factors"
   ]
  },
  {
   "cell_type": "code",
   "execution_count": 2,
   "metadata": {},
   "outputs": [],
   "source": [
    "def is_divisors_primes(divisors):\n",
    "    if len(divisors) == 1:\n",
    "        return False\n",
    "    for divisor in divisors:\n",
    "        if divisor == 1:\n",
    "            continue\n",
    "        if not is_prime(divisor):\n",
    "            return False\n",
    "    return True\n",
    "\n",
    "def check_length(n):\n",
    "    consecutive = []\n",
    "    i = 1\n",
    "    while True:\n",
    "        if len(consecutive) == n:\n",
    "            return consecutive\n",
    "        primes = prime_factors(i)\n",
    "        if len(set(primes)) == n:\n",
    "            consecutive.append(i)\n",
    "        else:\n",
    "            consecutive = []\n",
    "        i += 1"
   ]
  },
  {
   "cell_type": "markdown",
   "metadata": {},
   "source": [
    "## Test"
   ]
  },
  {
   "cell_type": "code",
   "execution_count": 3,
   "metadata": {},
   "outputs": [
    {
     "name": "stdout",
     "output_type": "stream",
     "text": [
      "[14, 15]\n",
      "[644, 645, 646]\n"
     ]
    }
   ],
   "source": [
    "print(check_length(2))\n",
    "print(check_length(3))"
   ]
  },
  {
   "cell_type": "markdown",
   "metadata": {},
   "source": [
    "## Answer"
   ]
  },
  {
   "cell_type": "code",
   "execution_count": 4,
   "metadata": {},
   "outputs": [
    {
     "name": "stdout",
     "output_type": "stream",
     "text": [
      "[134043, 134044, 134045, 134046]\n",
      "134043\n"
     ]
    }
   ],
   "source": [
    "four = check_length(4)\n",
    "print(four)\n",
    "print(four[0])"
   ]
  }
 ],
 "metadata": {
  "kernelspec": {
   "display_name": "Python 3",
   "language": "python",
   "name": "python3"
  },
  "language_info": {
   "codemirror_mode": {
    "name": "ipython",
    "version": 3
   },
   "file_extension": ".py",
   "mimetype": "text/x-python",
   "name": "python",
   "nbconvert_exporter": "python",
   "pygments_lexer": "ipython3",
   "version": "3.7.3"
  }
 },
 "nbformat": 4,
 "nbformat_minor": 2
}
