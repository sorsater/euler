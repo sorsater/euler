{
 "cells": [
  {
   "cell_type": "markdown",
   "metadata": {},
   "source": [
    "A number chain is created by continuously adding the square of the digits in a number to form a new number until it has been seen before.\n",
    "\n",
    "For example,\n",
    "\n",
    "44 → 32 → 13 → 10 → 1 → 1  \n",
    "85 → 89 → 145 → 42 → 20 → 4 → 16 → 37 → 58 → 89\n",
    "\n",
    "Therefore any chain that arrives at 1 or 89 will become stuck in an endless loop. What is most amazing is that EVERY starting number will eventually arrive at 1 or 89.\n",
    "\n",
    "How many starting numbers below ten million will arrive at 89?"
   ]
  },
  {
   "cell_type": "code",
   "execution_count": 1,
   "metadata": {},
   "outputs": [],
   "source": [
    "import sys\n",
    "sys.path.append('..')\n",
    "from euler import Progress"
   ]
  },
  {
   "cell_type": "markdown",
   "metadata": {},
   "source": [
    "## Intuitive implementation\n",
    "Slow so work on a quicker one below."
   ]
  },
  {
   "cell_type": "code",
   "execution_count": 2,
   "metadata": {},
   "outputs": [],
   "source": [
    "squared = lambda x: x*x\n",
    "\n",
    "def chain_number(num):\n",
    "    while True:\n",
    "        if num == 1:\n",
    "            return False\n",
    "        if num == 89:\n",
    "            return True\n",
    "        num = sum(map(squared, map(int, str(num))))"
   ]
  },
  {
   "cell_type": "code",
   "execution_count": 3,
   "metadata": {},
   "outputs": [
    {
     "name": "stdout",
     "output_type": "stream",
     "text": [
      "Progress: [##############################] 100.0% 116.0 seconds\n",
      "8581146\n"
     ]
    }
   ],
   "source": [
    "eighty_nine = 0\n",
    "bar = Progress()\n",
    "max_num = 10**7\n",
    "\n",
    "for i in range(1, max_num):\n",
    "    if i % 10000 == 0:\n",
    "        bar.tick((i+1)/max_num)\n",
    "    eighty_nine += chain_number(i)\n",
    "    \n",
    "bar.tick(1)\n",
    "print(eighty_nine)"
   ]
  },
  {
   "cell_type": "markdown",
   "metadata": {},
   "source": [
    "## Smarter\n",
    "If the chain will repeat itself, if we arrive at a previous start number, return that number instead."
   ]
  },
  {
   "cell_type": "code",
   "execution_count": 4,
   "metadata": {},
   "outputs": [],
   "source": [
    "squared = lambda x: x*x\n",
    "\n",
    "memory = {}\n",
    "def chain_number_memory(num):\n",
    "    start = num\n",
    "    while True:\n",
    "        if num in memory:\n",
    "            return memory[num]\n",
    "        if num == 1:\n",
    "            memory[start] = False\n",
    "            return False\n",
    "        if num == 89:\n",
    "            memory[start] = True\n",
    "            return True\n",
    "        num = sum(map(squared, map(int, str(num))))"
   ]
  },
  {
   "cell_type": "code",
   "execution_count": 5,
   "metadata": {},
   "outputs": [
    {
     "name": "stdout",
     "output_type": "stream",
     "text": [
      "Progress: [##############################] 100.0% 75.5 seconds\n",
      "8581146\n"
     ]
    }
   ],
   "source": [
    "eighty_nine = 0\n",
    "bar = Progress()\n",
    "max_num = 10**7\n",
    "\n",
    "for i in range(1, max_num):\n",
    "    if i % 10000 == 0:\n",
    "        bar.tick((i+1)/max_num)\n",
    "    eighty_nine += chain_number_memory(i)\n",
    "    \n",
    "bar.tick(1)\n",
    "print(eighty_nine)"
   ]
  },
  {
   "cell_type": "markdown",
   "metadata": {},
   "source": [
    "### Conclusion\n",
    "Default method takes 116 s, quicker takes 75 s.  \n",
    "Decrease with 35% computationt time."
   ]
  }
 ],
 "metadata": {
  "kernelspec": {
   "display_name": "Python 3",
   "language": "python",
   "name": "python3"
  },
  "language_info": {
   "codemirror_mode": {
    "name": "ipython",
    "version": 3
   },
   "file_extension": ".py",
   "mimetype": "text/x-python",
   "name": "python",
   "nbconvert_exporter": "python",
   "pygments_lexer": "ipython3",
   "version": "3.7.3"
  }
 },
 "nbformat": 4,
 "nbformat_minor": 2
}
