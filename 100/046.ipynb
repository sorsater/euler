{
 "cells": [
  {
   "cell_type": "markdown",
   "metadata": {},
   "source": [
    "It was proposed by Christian Goldbach that every odd composite number can be written as the sum of a prime and twice a square.\n",
    "```\n",
    "9 = 7 + 2×1^2\n",
    "15 = 7 + 2×2^2\n",
    "21 = 3 + 2×3^2\n",
    "25 = 7 + 2×3^2\n",
    "27 = 19 + 2×2^2\n",
    "33 = 31 + 2×1^2\n",
    "```\n",
    "It turns out that the conjecture was false.\n",
    "\n",
    "What is the smallest odd composite that cannot be written as the sum of a prime and twice a square?"
   ]
  },
  {
   "cell_type": "markdown",
   "metadata": {},
   "source": [
    "## Analysis\n",
    "When we try numbers, we can calculate the possible number to square."
   ]
  },
  {
   "cell_type": "code",
   "execution_count": 1,
   "metadata": {},
   "outputs": [],
   "source": [
    "import sys\n",
    "sys.path.append('..')\n",
    "from euler import is_prime\n",
    "import math"
   ]
  },
  {
   "cell_type": "code",
   "execution_count": 2,
   "metadata": {},
   "outputs": [
    {
     "name": "stdout",
     "output_type": "stream",
     "text": [
      "5777\n"
     ]
    }
   ],
   "source": [
    "def criteria(n):\n",
    "    for prime in range(1, n):\n",
    "        if not is_prime(prime):\n",
    "            continue\n",
    "        diff = math.sqrt((n - prime) / 2)\n",
    "        if diff.is_integer():\n",
    "            if prime + 2 * diff**2 == n:\n",
    "                return True\n",
    "    return False\n",
    "        \n",
    "    \n",
    "i = 1\n",
    "while True:\n",
    "    i += 2\n",
    "    if is_prime(i):\n",
    "        continue\n",
    "    \n",
    "    if not criteria(i):\n",
    "        break\n",
    "\n",
    "print(i)    "
   ]
  }
 ],
 "metadata": {
  "kernelspec": {
   "display_name": "Python 3",
   "language": "python",
   "name": "python3"
  },
  "language_info": {
   "codemirror_mode": {
    "name": "ipython",
    "version": 3
   },
   "file_extension": ".py",
   "mimetype": "text/x-python",
   "name": "python",
   "nbconvert_exporter": "python",
   "pygments_lexer": "ipython3",
   "version": "3.7.3"
  }
 },
 "nbformat": 4,
 "nbformat_minor": 2
}
