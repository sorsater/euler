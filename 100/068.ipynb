{
 "cells": [
  {
   "cell_type": "markdown",
   "metadata": {},
   "source": [
    "Consider the following \"magic\" 3-gon ring, filled with the numbers 1 to 6, and each line adding to nine.\n",
    "\n",
    "![](https://projecteuler.net/project/images/p068_1.png)\n",
    "\n",
    "Working clockwise, and starting from the group of three with the numerically lowest external node (4,3,2 in this example), each solution can be described uniquely. For example, the above solution can be described by the set: 4,3,2; 6,2,1; 5,1,3.\n",
    "\n",
    "It is possible to complete the ring with four different totals: 9, 10, 11, and 12. There are eight solutions in total.\n",
    "\n",
    "```\n",
    "Total\tSolution Set\n",
    "9\t4,2,3; 5,3,1; 6,1,2\n",
    "9\t4,3,2; 6,2,1; 5,1,3\n",
    "10\t2,3,5; 4,5,1; 6,1,3\n",
    "10\t2,5,3; 6,3,1; 4,1,5\n",
    "11\t1,4,6; 3,6,2; 5,2,4\n",
    "11\t1,6,4; 5,4,2; 3,2,6\n",
    "12\t1,5,6; 2,6,4; 3,4,5\n",
    "12\t1,6,5; 3,5,4; 2,4,6\n",
    "```\n",
    "By concatenating each group it is possible to form 9-digit strings; the maximum string for a 3-gon ring is 432621513.\n",
    "\n",
    "Using the numbers 1 to 10, and depending on arrangements, it is possible to form 16- and 17-digit strings. What is the maximum 16-digit string for a \"magic\" 5-gon ring?\n",
    "\n",
    "![](https://projecteuler.net/project/images/p068_2.png)\n",
    "\n"
   ]
  },
  {
   "cell_type": "code",
   "execution_count": 1,
   "metadata": {},
   "outputs": [],
   "source": [
    "import sys\n",
    "sys.path.append('..')\n",
    "from euler import Progress, factorial\n",
    "\n",
    "from itertools import permutations"
   ]
  },
  {
   "cell_type": "code",
   "execution_count": 2,
   "metadata": {},
   "outputs": [],
   "source": [
    "def evaluate_gon(neighbours, n, n_edges):\n",
    "    numbers = list(range(n))\n",
    "    edges_idxs = numbers[-n_edges:]\n",
    "    strings = []\n",
    "    bar = Progress()\n",
    "    # Loop over all permutations of the numbers\n",
    "    for idx, perm in enumerate(permutations(numbers)):\n",
    "        if idx % 10000 == 0:\n",
    "            bar.tick((idx+1)/factorial(len(numbers)))\n",
    "        # Only consider if smallest value is first\n",
    "        edges = [perm[idx] for idx in edges_idxs]\n",
    "        if edges.index(min(edges)) > 0:\n",
    "            continue    \n",
    "\n",
    "        # Create list of lists of all sums\n",
    "        lists = []\n",
    "        for idx in edges_idxs:\n",
    "            tmp = [perm[idx]+1]\n",
    "            for elem_idx in neighbours[idx]:\n",
    "                tmp.append(perm[elem_idx]+1)\n",
    "            lists.append(tmp)\n",
    "    \n",
    "        # Same sum along all axes\n",
    "        if len(set([sum(l) for l in lists])) == 1:\n",
    "            j = ''\n",
    "            for l in lists:\n",
    "                j += ''.join(map(str, l))\n",
    "            strings.append(j)\n",
    "    bar.tick(1)\n",
    "    return strings"
   ]
  },
  {
   "cell_type": "markdown",
   "metadata": {},
   "source": [
    "## Test"
   ]
  },
  {
   "cell_type": "code",
   "execution_count": 3,
   "metadata": {},
   "outputs": [
    {
     "name": "stdout",
     "output_type": "stream",
     "text": [
      "Progress: [##############################] 100.00% 0.0 seconds\n",
      "432621513\n"
     ]
    }
   ],
   "source": [
    "# Representation of the graph\n",
    "\n",
    "#     5\n",
    "#     \\\n",
    "#     2\n",
    "#    / \\\n",
    "#   1--0--3\n",
    "#  /\n",
    "# 4\n",
    "\n",
    "neighbours_3 = {\n",
    "    3: [0, 1],\n",
    "    4: [1, 2],\n",
    "    5: [2, 0],\n",
    "}\n",
    "\n",
    "strings = evaluate_gon(neighbours_3, n=6, n_edges=3)\n",
    "strings.sort()\n",
    "print(strings[-1])"
   ]
  },
  {
   "cell_type": "markdown",
   "metadata": {},
   "source": [
    "## Answer"
   ]
  },
  {
   "cell_type": "code",
   "execution_count": 4,
   "metadata": {},
   "outputs": [
    {
     "name": "stdout",
     "output_type": "stream",
     "text": [
      "Progress: [##############################] 100.00% 9.7 seconds\n",
      "6531031914842725\n"
     ]
    }
   ],
   "source": [
    "# Representation of the graph\n",
    "#      8    \n",
    "#      \\\n",
    "#       3     9\n",
    "#     /   \\ /\n",
    "#    2     4\n",
    "#   /\\    /\n",
    "#  7  1--0----5\n",
    "#     \\\n",
    "#     6\n",
    "\n",
    "neighbours_10 = {\n",
    "    5: [0, 1],\n",
    "    6: [1, 2],\n",
    "    7: [2, 3],\n",
    "    8: [3, 4],\n",
    "    9: [4, 0],\n",
    "}\n",
    "\n",
    "strings = evaluate_gon(neighbours_10, n=10, n_edges=5)\n",
    "strings = [s for s in strings if len(s) == 16]\n",
    "strings.sort()\n",
    "print(strings[-1])"
   ]
  }
 ],
 "metadata": {
  "kernelspec": {
   "display_name": "Python 3",
   "language": "python",
   "name": "python3"
  },
  "language_info": {
   "codemirror_mode": {
    "name": "ipython",
    "version": 3
   },
   "file_extension": ".py",
   "mimetype": "text/x-python",
   "name": "python",
   "nbconvert_exporter": "python",
   "pygments_lexer": "ipython3",
   "version": "3.7.3"
  }
 },
 "nbformat": 4,
 "nbformat_minor": 2
}
