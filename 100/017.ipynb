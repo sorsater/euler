{
 "cells": [
  {
   "cell_type": "markdown",
   "metadata": {},
   "source": [
    "If the numbers 1 to 5 are written out in words: one, two, three, four, five, then there are 3 + 3 + 5 + 4 + 4 = 19 letters used in total.\n",
    "\n",
    "If all the numbers from 1 to 1000 (one thousand) inclusive were written out in words, how many letters would be used?\n",
    "\n",
    "\n",
    "NOTE: Do not count spaces or hyphens. For example, 342 (three hundred and forty-two) contains 23 letters and 115 (one hundred and fifteen) contains 20 letters. The use of \"and\" when writing out numbers is in compliance with British usage."
   ]
  },
  {
   "cell_type": "code",
   "execution_count": 1,
   "metadata": {},
   "outputs": [],
   "source": [
    "from n2w import convert # External dependency"
   ]
  },
  {
   "cell_type": "markdown",
   "metadata": {},
   "source": [
    "## Description\n",
    "This problem is basically creating one big calculation for all numbers, including ones, teens, tens, hundreds and all.  \n",
    "Not a fun solution at all...  \n",
    "Instead I cheat by using a package that does this for me (what am I really learning here?)"
   ]
  },
  {
   "cell_type": "code",
   "execution_count": 2,
   "metadata": {},
   "outputs": [],
   "source": [
    "def string_me(n):\n",
    "    result = convert(n)\n",
    "    result = result.replace(' ', '')\n",
    "    if n > 100 and n % 100 != 0:\n",
    "        result += 'and'\n",
    "    \n",
    "    return len(result)"
   ]
  },
  {
   "cell_type": "code",
   "execution_count": 3,
   "metadata": {},
   "outputs": [
    {
     "name": "stdout",
     "output_type": "stream",
     "text": [
      "21124\n"
     ]
    }
   ],
   "source": [
    "tot_num = 0\n",
    "for i in range(1, 1001):\n",
    "    tot_num += string_me(i)\n",
    "print(tot_num)"
   ]
  },
  {
   "cell_type": "markdown",
   "metadata": {},
   "source": [
    "# Mathematical solution\n",
    "We could count the numbers in all parts and adding them together..  \n",
    "Without using a bad map, still not satisfied with using this technique to solve a math problem..."
   ]
  },
  {
   "cell_type": "markdown",
   "metadata": {},
   "source": [
    "### 1-9"
   ]
  },
  {
   "cell_type": "code",
   "execution_count": 4,
   "metadata": {},
   "outputs": [
    {
     "name": "stdout",
     "output_type": "stream",
     "text": [
      "36\n"
     ]
    }
   ],
   "source": [
    "s_1_9 = 'one two three four five six seven eight nine'\n",
    "s_1_9 = len(s_1_9.replace(' ', ''))\n",
    "print(s_1_9)"
   ]
  },
  {
   "cell_type": "markdown",
   "metadata": {},
   "source": [
    "### 10-19"
   ]
  },
  {
   "cell_type": "code",
   "execution_count": 5,
   "metadata": {},
   "outputs": [
    {
     "name": "stdout",
     "output_type": "stream",
     "text": [
      "70\n"
     ]
    }
   ],
   "source": [
    "s_10_19 = 'ten eleven twelve thirteen fourteen fifteen sixteen seventeen eighteen nineteen'\n",
    "s_10_19 = len(s_10_19.replace(' ', ''))\n",
    "print(s_10_19)"
   ]
  },
  {
   "cell_type": "markdown",
   "metadata": {},
   "source": [
    "### 20-99"
   ]
  },
  {
   "cell_type": "code",
   "execution_count": 6,
   "metadata": {},
   "outputs": [
    {
     "name": "stdout",
     "output_type": "stream",
     "text": [
      "748\n"
     ]
    }
   ],
   "source": [
    "s_20_90 = 'twenty thirty forty fifty sixty seventy eighty ninety'\n",
    "s_20_90 = len(s_20_90.replace(' ', ''))\n",
    "\n",
    "# We will use each of these 10 times (0-9)\n",
    "# Of each 8 we will use 1-9 calculated before (s_1_9)\n",
    "s_20_99 = 10 * s_20_90 + 8 * s_1_9\n",
    "\n",
    "print(s_20_99)"
   ]
  },
  {
   "cell_type": "markdown",
   "metadata": {},
   "source": [
    "# 1-99"
   ]
  },
  {
   "cell_type": "code",
   "execution_count": 7,
   "metadata": {},
   "outputs": [
    {
     "name": "stdout",
     "output_type": "stream",
     "text": [
      "854\n"
     ]
    }
   ],
   "source": [
    "s_1_99 = s_1_9 + s_10_19 + s_20_99\n",
    "print(s_1_99)"
   ]
  },
  {
   "cell_type": "markdown",
   "metadata": {},
   "source": [
    "### 100-999"
   ]
  },
  {
   "cell_type": "code",
   "execution_count": 8,
   "metadata": {},
   "outputs": [],
   "source": [
    "# 'hundred' is used 9 times (with 00 at the end)\n",
    "hundred = len('hundred') * 9\n",
    "\n",
    "# 'hundred and' is used = 891 times (100 -> 999 is 900 numbers, minus alreadry counted 9)\n",
    "hundred_and = len('hundredand') * 891\n",
    "\n",
    "# 1-99 repeated 9 times (100, 200, ..., 900)\n",
    "one_to_99 = 9 * s_1_99\n",
    "\n",
    "# One to 9 is repeated 100 times. Each time before each part in one hundred, two hundred...\n",
    "one_to_9 = 100 * s_1_9\n",
    "\n",
    "s_100_999 = one_to_9 + one_to_99 + hundred + hundred_and"
   ]
  },
  {
   "cell_type": "markdown",
   "metadata": {},
   "source": [
    "### 1000"
   ]
  },
  {
   "cell_type": "code",
   "execution_count": 9,
   "metadata": {},
   "outputs": [
    {
     "name": "stdout",
     "output_type": "stream",
     "text": [
      "11\n"
     ]
    }
   ],
   "source": [
    "one_thousand = len('onethousand')\n",
    "print(one_thousand)"
   ]
  },
  {
   "cell_type": "markdown",
   "metadata": {},
   "source": [
    "## Total"
   ]
  },
  {
   "cell_type": "code",
   "execution_count": 10,
   "metadata": {},
   "outputs": [
    {
     "name": "stdout",
     "output_type": "stream",
     "text": [
      "21124\n"
     ]
    }
   ],
   "source": [
    "total = s_1_99 + s_100_999 + one_thousand\n",
    "print(total)"
   ]
  }
 ],
 "metadata": {
  "kernelspec": {
   "display_name": "Python 3",
   "language": "python",
   "name": "python3"
  },
  "language_info": {
   "codemirror_mode": {
    "name": "ipython",
    "version": 3
   },
   "file_extension": ".py",
   "mimetype": "text/x-python",
   "name": "python",
   "nbconvert_exporter": "python",
   "pygments_lexer": "ipython3",
   "version": "3.7.3"
  }
 },
 "nbformat": 4,
 "nbformat_minor": 2
}
