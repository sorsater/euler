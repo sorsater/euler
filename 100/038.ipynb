{
 "cells": [
  {
   "cell_type": "markdown",
   "metadata": {},
   "source": [
    "Take the number 192 and multiply it by each of 1, 2, and 3:\n",
    "\n",
    "192 × 1 = 192  \n",
    "192 × 2 = 384  \n",
    "192 × 3 = 576  \n",
    "By concatenating each product we get the 1 to 9 pandigital, 192384576. We will call 192384576 the concatenated product of 192 and (1,2,3)\n",
    "\n",
    "The same can be achieved by starting with 9 and multiplying by 1, 2, 3, 4, and 5, giving the pandigital, 918273645, which is the concatenated product of 9 and (1,2,3,4,5).\n",
    "\n",
    "What is the largest 1 to 9 pandigital 9-digit number that can be formed as the concatenated product of an integer with (1,2, ... , n) where n > 1?"
   ]
  },
  {
   "cell_type": "code",
   "execution_count": 1,
   "metadata": {},
   "outputs": [],
   "source": [
    "import sys\n",
    "sys.path.append('..')\n",
    "from euler import Progress"
   ]
  },
  {
   "cell_type": "markdown",
   "metadata": {},
   "source": [
    "## Upper bound analysis\n",
    "We need two upper bounds.  "
   ]
  },
  {
   "cell_type": "markdown",
   "metadata": {},
   "source": [
    "### Loop number\n",
    "How long we will loop, calculated below"
   ]
  },
  {
   "cell_type": "code",
   "execution_count": 2,
   "metadata": {},
   "outputs": [
    {
     "name": "stdout",
     "output_type": "stream",
     "text": [
      "Upper bound loop 25660\n"
     ]
    }
   ],
   "source": [
    "res = 0\n",
    "i = 1\n",
    "upper_bound_loop = None\n",
    "while True:\n",
    "    res += 3 * i\n",
    "    if res > 987654321:\n",
    "        upper_bound_loop = i\n",
    "        break\n",
    "    i += 1\n",
    "    \n",
    "print('Upper bound loop', upper_bound_loop)"
   ]
  },
  {
   "cell_type": "markdown",
   "metadata": {},
   "source": [
    "### How large number to check\n",
    "x * 1 = a  \n",
    "x * 2 = b  \n",
    "c = str(a) + str(b)  \n",
    "len(c) < 10"
   ]
  },
  {
   "cell_type": "code",
   "execution_count": 3,
   "metadata": {},
   "outputs": [
    {
     "name": "stdout",
     "output_type": "stream",
     "text": [
      "10000\n"
     ]
    }
   ],
   "source": [
    "x = 1\n",
    "upper_bound_check = None\n",
    "while True:\n",
    "    a = x\n",
    "    b = 2 * x\n",
    "    c = str(a) + str(b)\n",
    "    if len(c) > 9:\n",
    "        upper_bound_check = x\n",
    "        break\n",
    "    x += 1\n",
    "print(upper_bound_check)"
   ]
  },
  {
   "cell_type": "markdown",
   "metadata": {},
   "source": [
    "## Code "
   ]
  },
  {
   "cell_type": "code",
   "execution_count": 4,
   "metadata": {},
   "outputs": [],
   "source": [
    "def is_pandigital(n):\n",
    "    if ''.join(sorted(n)) == '123456789':\n",
    "        return True\n",
    "    return False\n",
    "\n",
    "def concatenated_product(n):\n",
    "    if 3*n > 987654321: # Can ignore these numbers\n",
    "        return False\n",
    "    concat = ''\n",
    "    for i in range(1, upper_bound_loop):\n",
    "        concat += str(n * i)\n",
    "        if len(concat) == 9:\n",
    "            break\n",
    "        elif len(concat) > 9:\n",
    "            return False\n",
    "    else:\n",
    "        return False\n",
    "    if is_pandigital(concat):\n",
    "        return int(concat)"
   ]
  },
  {
   "cell_type": "code",
   "execution_count": 5,
   "metadata": {},
   "outputs": [
    {
     "name": "stdout",
     "output_type": "stream",
     "text": [
      "932718654\n"
     ]
    }
   ],
   "source": [
    "concats = []\n",
    "for i in range(upper_bound_check):\n",
    "    res = concatenated_product(i)\n",
    "    if res:\n",
    "        concats.append(res)\n",
    "\n",
    "print(sorted(concats)[-1])"
   ]
  }
 ],
 "metadata": {
  "kernelspec": {
   "display_name": "Python 3",
   "language": "python",
   "name": "python3"
  },
  "language_info": {
   "codemirror_mode": {
    "name": "ipython",
    "version": 3
   },
   "file_extension": ".py",
   "mimetype": "text/x-python",
   "name": "python",
   "nbconvert_exporter": "python",
   "pygments_lexer": "ipython3",
   "version": "3.7.3"
  }
 },
 "nbformat": 4,
 "nbformat_minor": 2
}
