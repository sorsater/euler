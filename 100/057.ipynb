{
 "cells": [
  {
   "cell_type": "markdown",
   "metadata": {},
   "source": [
    "It is possible to show that the square root of two can be expressed as an infinite continued fraction.\n",
    "\n",
    "By expanding this for the first four iterations, we get:\n",
    "\n",
    "EXAMPLES\n",
    "\n",
    "The next three expansions are 99/70, 239/169, and 577/408, but the eighth expansion, 1393/985, is the first example where the number of digits in the numerator exceeds the number of digits in the denominator.\n",
    "\n",
    "In the first one-thousand expansions, how many fractions contain a numerator with more digits than the denominator?"
   ]
  },
  {
   "cell_type": "markdown",
   "metadata": {},
   "source": [
    "## Analysis\n",
    "We can se a symmetry in the fractions.  \n",
    "If we remove 1 from each fraction we see the following:\n",
    "* 1 + 1/2\n",
    "* 1 + 2/5\n",
    "* 1 + 5/12\n",
    "* 1 + 12/29\n",
    "    \n",
    "The new numerator is the previous denominator.  \n",
    "The new denominator is the (previous denominator * 2 + previous numerator)"
   ]
  },
  {
   "cell_type": "code",
   "execution_count": 1,
   "metadata": {},
   "outputs": [],
   "source": [
    "fractions = [[1, 2]]\n",
    "cur_fraction = [1,2]\n",
    "max_val = 1000\n",
    "for i in range(max_val - 1):\n",
    "    numerator, denominator = cur_fraction\n",
    "    new_numerator = denominator\n",
    "    new_denominator = 2 * denominator + numerator\n",
    "    cur_fraction = [new_numerator, new_denominator]\n",
    "    \n",
    "    # Add new_denominator because the true value is 1 + X.\n",
    "    fractions.append([new_numerator + new_denominator, new_denominator])"
   ]
  },
  {
   "cell_type": "code",
   "execution_count": 2,
   "metadata": {},
   "outputs": [
    {
     "name": "stdout",
     "output_type": "stream",
     "text": [
      "153\n"
     ]
    }
   ],
   "source": [
    "count = 0\n",
    "for numerator, denominator in fractions:\n",
    "    str_num = str(numerator)\n",
    "    str_den = str(denominator)\n",
    "    if len(str_num) > len(str_den):\n",
    "        count += 1\n",
    "print(count)"
   ]
  }
 ],
 "metadata": {
  "kernelspec": {
   "display_name": "Python 3",
   "language": "python",
   "name": "python3"
  },
  "language_info": {
   "codemirror_mode": {
    "name": "ipython",
    "version": 3
   },
   "file_extension": ".py",
   "mimetype": "text/x-python",
   "name": "python",
   "nbconvert_exporter": "python",
   "pygments_lexer": "ipython3",
   "version": "3.7.3"
  }
 },
 "nbformat": 4,
 "nbformat_minor": 2
}
