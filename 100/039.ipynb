{
 "cells": [
  {
   "cell_type": "markdown",
   "metadata": {},
   "source": [
    "If p is the perimeter of a right angle triangle with integral length sides, {a,b,c}, there are exactly three solutions for p = 120.\n",
    "\n",
    "{20,48,52}, {24,45,51}, {30,40,50}\n",
    "\n",
    "For which value of p ≤ 1000, is the number of solutions maximised?"
   ]
  },
  {
   "cell_type": "markdown",
   "metadata": {},
   "source": [
    "## Analysis\n",
    "Will use pythagoras theorem to calculate possible values."
   ]
  },
  {
   "cell_type": "code",
   "execution_count": 1,
   "metadata": {},
   "outputs": [],
   "source": [
    "import sys\n",
    "sys.path.append('..')\n",
    "from euler import Progress"
   ]
  },
  {
   "cell_type": "code",
   "execution_count": 2,
   "metadata": {},
   "outputs": [],
   "source": [
    "# Pre calculate all powers to save around 30% execution time\n",
    "power = {i: i**2 for i in range(1000)}\n",
    "\n",
    "def test_angle(angle):\n",
    "    valid = []\n",
    "    for a in range(1, angle):\n",
    "        # We don't need to evaluate 3, 4, 5 and 4, 3, 5. So b needs to be larger than a.\n",
    "        for b in range(a + 1, angle):\n",
    "            # c needs to be larger than a and b + total sum no longer \n",
    "            c = angle - a - b\n",
    "            if c > a and c > b:\n",
    "                if power[a] + power[b] == power[c]:\n",
    "                    valid.append([a, b, c])\n",
    "    return valid\n",
    "                "
   ]
  },
  {
   "cell_type": "markdown",
   "metadata": {},
   "source": [
    "## Test"
   ]
  },
  {
   "cell_type": "code",
   "execution_count": 3,
   "metadata": {},
   "outputs": [
    {
     "data": {
      "text/plain": [
       "[[20, 48, 52], [24, 45, 51], [30, 40, 50]]"
      ]
     },
     "execution_count": 3,
     "metadata": {},
     "output_type": "execute_result"
    }
   ],
   "source": [
    "test_angle(120)"
   ]
  },
  {
   "cell_type": "markdown",
   "metadata": {},
   "source": [
    "## Answer"
   ]
  },
  {
   "cell_type": "code",
   "execution_count": 4,
   "metadata": {},
   "outputs": [
    {
     "name": "stdout",
     "output_type": "stream",
     "text": [
      "Progress: [##############################] 100.0% 35.5 seconds\n",
      "840\n"
     ]
    }
   ],
   "source": [
    "res = [] \n",
    "bar = Progress()\n",
    "for i in range(3, 1001):\n",
    "    bar.tick((i+1)/1001)\n",
    "    valids = test_angle(i)\n",
    "    res.append([len(valids), i])\n",
    "print(sorted(res)[-1][1])"
   ]
  }
 ],
 "metadata": {
  "kernelspec": {
   "display_name": "Python 3",
   "language": "python",
   "name": "python3"
  },
  "language_info": {
   "codemirror_mode": {
    "name": "ipython",
    "version": 3
   },
   "file_extension": ".py",
   "mimetype": "text/x-python",
   "name": "python",
   "nbconvert_exporter": "python",
   "pygments_lexer": "ipython3",
   "version": "3.7.3"
  }
 },
 "nbformat": 4,
 "nbformat_minor": 2
}
