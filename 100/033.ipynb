{
 "cells": [
  {
   "cell_type": "markdown",
   "metadata": {},
   "source": [
    "The fraction 49/98 is a curious fraction, as an inexperienced mathematician in attempting to simplify it may incorrectly believe that 49/98 = 4/8, which is correct, is obtained by cancelling the 9s.\n",
    "\n",
    "We shall consider fractions like, 30/50 = 3/5, to be trivial examples.\n",
    "\n",
    "There are exactly four non-trivial examples of this type of fraction, less than one in value, and containing two digits in the numerator and denominator.\n",
    "\n",
    "If the product of these four fractions is given in its lowest common terms, find the value of the denominator."
   ]
  },
  {
   "cell_type": "markdown",
   "metadata": {},
   "source": [
    "## Generate pairs"
   ]
  },
  {
   "cell_type": "code",
   "execution_count": 1,
   "metadata": {},
   "outputs": [],
   "source": [
    "from math import gcd"
   ]
  },
  {
   "cell_type": "code",
   "execution_count": 2,
   "metadata": {},
   "outputs": [],
   "source": [
    "valid_pairs = set()\n",
    "for numerator in range(10, 100):\n",
    "    for denominator in range(10, 100):\n",
    "        # Trivial 1, same number\n",
    "        if numerator == denominator:\n",
    "            continue\n",
    "        # Trivial 2, both ends with 0\n",
    "        if numerator * denominator % 100 == 0:\n",
    "            continue  \n",
    "        # Trivial 3, larger than 1\n",
    "        if numerator > denominator:\n",
    "            continue\n",
    "        \n",
    "        str_num = str(numerator)\n",
    "        str_den = str(denominator)\n",
    "        \n",
    "        true_res = numerator / denominator\n",
    "        \n",
    "        # Remove two first\n",
    "        if str_num[0] == str_den[0]:\n",
    "            new_num, new_den = int(str_num[1]), int(str_den[1])\n",
    "            if new_den > 0 and new_num / new_den == true_res:\n",
    "                valid_pairs.add(tuple((numerator, denominator)))\n",
    "        \n",
    "        # Remove first and last\n",
    "        if str_num[0] == str_den[1]:\n",
    "            new_num, new_den = int(str_num[1]), int(str_den[0])\n",
    "            if new_den > 0 and new_num / new_den == true_res:\n",
    "                valid_pairs.add(tuple((numerator, denominator)))\n",
    "        \n",
    "        # Remove last and first\n",
    "        if str_num[1] == str_den[0]:\n",
    "            new_num, new_den = int(str_num[0]), int(str_den[1])\n",
    "            if new_den > 0 and new_num / new_den == true_res:\n",
    "                valid_pairs.add(tuple((numerator, denominator)))\n",
    "                \n",
    "        # Remove two last\n",
    "        if str_num[1] == str_den[1]:\n",
    "            new_num, new_den = int(str_num[0]), int(str_den[0])\n",
    "            if new_den > 0 and new_num / new_den == true_res:\n",
    "                valid_pairs.add(tuple((numerator, denominator)))"
   ]
  },
  {
   "cell_type": "markdown",
   "metadata": {},
   "source": [
    "## Find value"
   ]
  },
  {
   "cell_type": "code",
   "execution_count": 3,
   "metadata": {},
   "outputs": [
    {
     "name": "stdout",
     "output_type": "stream",
     "text": [
      "Numerator: 387296\n",
      "Denominator: 38729600\n",
      "\n",
      "Simplified fraction: 1/100\n"
     ]
    }
   ],
   "source": [
    "numerator, denominator = 1, 1\n",
    "for num, den in list(valid_pairs):\n",
    "    numerator *= num\n",
    "    denominator *= den\n",
    "\n",
    "print('Numerator:', numerator)\n",
    "print('Denominator:', denominator)\n",
    "    \n",
    "g_c_d = gcd(numerator, denominator)\n",
    "\n",
    "print('\\nSimplified fraction: {}/{}'.format(int(numerator / g_c_d), int(denominator/g_c_d)))"
   ]
  }
 ],
 "metadata": {
  "kernelspec": {
   "display_name": "Python 3",
   "language": "python",
   "name": "python3"
  },
  "language_info": {
   "codemirror_mode": {
    "name": "ipython",
    "version": 3
   },
   "file_extension": ".py",
   "mimetype": "text/x-python",
   "name": "python",
   "nbconvert_exporter": "python",
   "pygments_lexer": "ipython3",
   "version": "3.7.3"
  }
 },
 "nbformat": 4,
 "nbformat_minor": 2
}
