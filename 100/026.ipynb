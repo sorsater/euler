{
 "cells": [
  {
   "cell_type": "markdown",
   "metadata": {},
   "source": [
    "A unit fraction contains 1 in the numerator. The decimal representation of the unit fractions with denominators 2 to 10 are given:\n",
    "\n",
    "1/2\t= \t0.5  \n",
    "1/3\t= \t0.(3)  \n",
    "1/4\t= \t0.25  \n",
    "1/5\t= \t0.2  \n",
    "1/6\t= \t0.1(6)  \n",
    "1/7\t= \t0.(142857)  \n",
    "1/8\t= \t0.125  \n",
    "1/9\t= \t0.(1)  \n",
    "1/10\t= \t0.1  \n",
    "Where 0.1(6) means 0.166666..., and has a 1-digit recurring cycle. It can be seen that 1/7 has a 6-digit recurring cycle.\n",
    "\n",
    "Find the value of d < 1000 for which 1/d contains the longest recurring cycle in its decimal fraction part."
   ]
  },
  {
   "cell_type": "markdown",
   "metadata": {},
   "source": [
    "## Analysis\n",
    "Here we can't only count repeating decimals as we have problem with floating point accuracy.  \n",
    "Instead we need to analyze the problem mathematically.\n",
    "\n",
    "According to wikipedia:  \n",
    "https://en.wikipedia.org/wiki/Repeating_decimal#Other_properties_of_repetend_lengths\n",
    "\n",
    "The following is said:  \n",
    "\n",
    "### 1.\n",
    "The period of 1/k for integer k is always ≤ k − 1.  \n",
    "\n",
    "... \n",
    "\n",
    "### 2. \n",
    "... and the period equals r, where r is the smallest integer such that 10^r mod n == 1\n",
    "\n",
    "From 1. we know that the repeating length can never be longer than n.  \n",
    "From 2. we can use this last property to find the period r."
   ]
  },
  {
   "cell_type": "code",
   "execution_count": 1,
   "metadata": {},
   "outputs": [],
   "source": [
    "def repeating(n):\n",
    "    for r in range(1, n):\n",
    "        if 10**r % n == 1:\n",
    "            return r, n\n",
    "    return 0, 0   "
   ]
  },
  {
   "cell_type": "code",
   "execution_count": 2,
   "metadata": {},
   "outputs": [
    {
     "name": "stdout",
     "output_type": "stream",
     "text": [
      "983\n"
     ]
    }
   ],
   "source": [
    "res = [[*repeating(i)] for i in range(2, 1001)]\n",
    "print(sorted(res)[-1][1])"
   ]
  }
 ],
 "metadata": {
  "kernelspec": {
   "display_name": "Python 3",
   "language": "python",
   "name": "python3"
  },
  "language_info": {
   "codemirror_mode": {
    "name": "ipython",
    "version": 3
   },
   "file_extension": ".py",
   "mimetype": "text/x-python",
   "name": "python",
   "nbconvert_exporter": "python",
   "pygments_lexer": "ipython3",
   "version": "3.7.3"
  }
 },
 "nbformat": 4,
 "nbformat_minor": 2
}
