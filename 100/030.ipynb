{
 "cells": [
  {
   "cell_type": "markdown",
   "metadata": {},
   "source": [
    "Surprisingly there are only three numbers that can be written as the sum of fourth powers of their digits:\n",
    "\n",
    "```\n",
    "1634 = 1^4 + 6^4 + 3^4 + 4^4\n",
    "8208 = 8^4 + 2^4 + 0^4 + 8^4\n",
    "9474 = 9^4 + 4^4 + 7^4 + 4^4\n",
    "```\n",
    "As 1 = 1^4 is not a sum it is not included.\n",
    "\n",
    "The sum of these numbers is 1634 + 8208 + 9474 = 19316.\n",
    "\n",
    "Find the sum of all the numbers that can be written as the sum of fifth powers of their digits."
   ]
  },
  {
   "cell_type": "markdown",
   "metadata": {},
   "source": [
    "## Analysis\n",
    "Here we need to find an upper limit somehow.  \n",
    "For the test, I only use 10000 as no number is larger in the example given.\n",
    "\n",
    "The number of digits in the number we want to try is important here.  \n",
    "If the number contains a digits we want ax9^5 digits in the answer.\n",
    "\n",
    "The maximum sum of a number n is the n*9^5.\n",
    "\n",
    "I loop over n, n>=1 until we find a n that has gives an integer with length shorter than n. That means that after that point, no larger n can produce a longer sum."
   ]
  },
  {
   "cell_type": "markdown",
   "metadata": {},
   "source": [
    "## Upper bound"
   ]
  },
  {
   "cell_type": "code",
   "execution_count": 1,
   "metadata": {},
   "outputs": [],
   "source": [
    "n = 1\n",
    "while True:\n",
    "    res = n*(9**5)\n",
    "    if len(str(res)) < n:\n",
    "        break\n",
    "    n += 1\n",
    "upper_bound = res"
   ]
  },
  {
   "cell_type": "code",
   "execution_count": 2,
   "metadata": {},
   "outputs": [],
   "source": [
    "def sum_of_power(parts, n):\n",
    "    return sum([part**n for part in parts])\n",
    "\n",
    "def power_of_n(n, upper_limit):\n",
    "    valid_nums = []\n",
    "    for num in range(2, upper_limit):\n",
    "        parts = list(map(int, str(num)))\n",
    "        if num == sum_of_power(parts, n):\n",
    "            valid_nums.append(num)\n",
    "    print(sum(valid_nums))"
   ]
  },
  {
   "cell_type": "markdown",
   "metadata": {},
   "source": [
    "## Test"
   ]
  },
  {
   "cell_type": "code",
   "execution_count": 3,
   "metadata": {},
   "outputs": [
    {
     "name": "stdout",
     "output_type": "stream",
     "text": [
      "19316\n"
     ]
    }
   ],
   "source": [
    "power_of_n(4, 10000)"
   ]
  },
  {
   "cell_type": "markdown",
   "metadata": {},
   "source": [
    "## Answer"
   ]
  },
  {
   "cell_type": "code",
   "execution_count": 4,
   "metadata": {},
   "outputs": [
    {
     "name": "stdout",
     "output_type": "stream",
     "text": [
      "443839\n"
     ]
    }
   ],
   "source": [
    "power_of_n(5, upper_bound)"
   ]
  }
 ],
 "metadata": {
  "kernelspec": {
   "display_name": "Python 3",
   "language": "python",
   "name": "python3"
  },
  "language_info": {
   "codemirror_mode": {
    "name": "ipython",
    "version": 3
   },
   "file_extension": ".py",
   "mimetype": "text/x-python",
   "name": "python",
   "nbconvert_exporter": "python",
   "pygments_lexer": "ipython3",
   "version": "3.7.3"
  }
 },
 "nbformat": 4,
 "nbformat_minor": 2
}
