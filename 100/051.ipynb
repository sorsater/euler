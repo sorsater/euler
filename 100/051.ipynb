{
 "cells": [
  {
   "cell_type": "markdown",
   "metadata": {},
   "source": [
    "By replacing the 1st digit of the 2-digit number *3, it turns out that six of the nine possible values: 13, 23, 43, 53, 73, and 83, are all prime.\n",
    "\n",
    "By replacing the 3rd and 4th digits of 56**3 with the same digit, this 5-digit number is the first example having seven primes among the ten generated numbers, yielding the family: 56003, 56113, 56333, 56443, 56663, 56773, and 56993. Consequently 56003, being the first member of this family, is the smallest prime with this property.\n",
    "\n",
    "Find the smallest prime which, by replacing part of the number (not necessarily adjacent digits) with the same digit, is part of an eight prime value family."
   ]
  },
  {
   "cell_type": "markdown",
   "metadata": {},
   "source": [
    "## Analysis\n",
    "We generate a mask for each number with all possible combinations.  \n",
    "We can make som improvements.\n",
    "\n",
    "1. The last digit can never be a *, because half of the numbers are even and we can't find >7 primes then. (execution time from 48->22 for test case)\n",
    "2. The last number can not be divisable by 2 or 5. (not a prime). (execution time from 22->14 for test case)\n",
    "3. We use a prime map, because we will check primes so often. We store these in a set. (execution time from 14->8)\n",
    "\n",
    "In total. Execution time went from 48 to 8, a reduction with 83%\n"
   ]
  },
  {
   "cell_type": "code",
   "execution_count": 1,
   "metadata": {},
   "outputs": [],
   "source": [
    "import sys\n",
    "sys.path.append('..')\n",
    "from euler import is_prime, Progress\n",
    "from itertools import combinations"
   ]
  },
  {
   "cell_type": "code",
   "execution_count": 2,
   "metadata": {},
   "outputs": [],
   "source": [
    "# Optimization #3\n",
    "prime_map = {}\n",
    "def prime_checker(n):\n",
    "    if n not in prime_map:\n",
    "        prime_map[n] = is_prime(n)\n",
    "    return prime_map[n]\n",
    "\n",
    "def evaluate_number(num):\n",
    "    candidates = []\n",
    "    for i in range(10):\n",
    "        new_num = ''\n",
    "        for idx, val in enumerate(num):\n",
    "            if val == '*':\n",
    "                new_num += str(i)\n",
    "            else:\n",
    "                new_num += val\n",
    "        if len(str(int(new_num))) == len(num):\n",
    "            candidates.append(int(new_num))\n",
    "    primes = []\n",
    "    for cand in candidates:\n",
    "        if prime_checker(cand):\n",
    "            primes.append(cand)\n",
    "    return primes"
   ]
  },
  {
   "cell_type": "markdown",
   "metadata": {},
   "source": [
    "## Test"
   ]
  },
  {
   "cell_type": "code",
   "execution_count": 3,
   "metadata": {},
   "outputs": [],
   "source": [
    "def generate_mask(n):\n",
    "    str_n = str(n)\n",
    "    res = []\n",
    "    for i in range(1, len(str(n)) + 1):\n",
    "        # -1 to ignore last *. Optimization #1\n",
    "        for a in combinations(range(len(str(n))-1), i):\n",
    "            new = list(str_n)\n",
    "            for idx in a:\n",
    "                new[idx] = '*'\n",
    "            res.append(new)\n",
    "    return res"
   ]
  },
  {
   "cell_type": "code",
   "execution_count": 4,
   "metadata": {},
   "outputs": [],
   "source": [
    "def evaluate_numbers(wanted_len):\n",
    "    i = 1\n",
    "    bar = Progress(show_bar=False)\n",
    "    while True:\n",
    "        if i % 1000 == 0:\n",
    "            bar.tick(msg=f'{i}')\n",
    "        mask_values = generate_mask(i)\n",
    "        for mask in mask_values:\n",
    "            # Optimization #2\n",
    "            if mask[-1] in ['0', '2', '4', '5', '6', '8']:\n",
    "                continue\n",
    "            primes = evaluate_number(mask)\n",
    "            if len(primes) == wanted_len:\n",
    "                return primes\n",
    "        i += 1"
   ]
  },
  {
   "cell_type": "markdown",
   "metadata": {},
   "source": [
    "## Test"
   ]
  },
  {
   "cell_type": "code",
   "execution_count": 5,
   "metadata": {},
   "outputs": [
    {
     "name": "stdout",
     "output_type": "stream",
     "text": [
      " 8.4 seconds 56000\n",
      "[56003, 56113, 56333, 56443, 56663, 56773, 56993]\n",
      "56003\n"
     ]
    }
   ],
   "source": [
    "res = evaluate_numbers(7)\n",
    "print(res)\n",
    "print(res[0])"
   ]
  },
  {
   "cell_type": "markdown",
   "metadata": {},
   "source": [
    "## Answer"
   ]
  },
  {
   "cell_type": "code",
   "execution_count": 6,
   "metadata": {},
   "outputs": [
    {
     "name": "stdout",
     "output_type": "stream",
     "text": [
      " 22.6 seconds 120000\n",
      "[121313, 222323, 323333, 424343, 525353, 626363, 828383, 929393]\n",
      "121313\n"
     ]
    }
   ],
   "source": [
    "res = evaluate_numbers(8)\n",
    "print(res)\n",
    "print(res[0])"
   ]
  }
 ],
 "metadata": {
  "kernelspec": {
   "display_name": "Python 3",
   "language": "python",
   "name": "python3"
  },
  "language_info": {
   "codemirror_mode": {
    "name": "ipython",
    "version": 3
   },
   "file_extension": ".py",
   "mimetype": "text/x-python",
   "name": "python",
   "nbconvert_exporter": "python",
   "pygments_lexer": "ipython3",
   "version": "3.7.3"
  }
 },
 "nbformat": 4,
 "nbformat_minor": 2
}
