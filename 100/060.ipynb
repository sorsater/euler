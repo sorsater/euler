{
 "cells": [
  {
   "cell_type": "markdown",
   "metadata": {},
   "source": [
    "The primes 3, 7, 109, and 673, are quite remarkable. By taking any two primes and concatenating them in any order the result will always be prime. For example, taking 7 and 109, both 7109 and 1097 are prime. The sum of these four primes, 792, represents the lowest sum for a set of four primes with this property.\n",
    "\n",
    "Find the lowest sum for a set of five primes for which any two primes concatenate to produce another prime."
   ]
  },
  {
   "cell_type": "code",
   "execution_count": 1,
   "metadata": {},
   "outputs": [],
   "source": [
    "import sys\n",
    "sys.path.append('..')\n",
    "from euler import is_prime"
   ]
  },
  {
   "cell_type": "code",
   "execution_count": 2,
   "metadata": {},
   "outputs": [],
   "source": [
    "prime_map = {}\n",
    "def check_prime(n):\n",
    "    if n not in prime_map:\n",
    "        prime_map[n] = is_prime(n)\n",
    "    return prime_map[n]\n",
    "\n",
    "def make_pair(p, r):\n",
    "    if not check_prime(int(str(p) + str(r))):\n",
    "        return False\n",
    "    if not check_prime(int(str(r) + str(p))):\n",
    "        return False\n",
    "    return True"
   ]
  },
  {
   "cell_type": "markdown",
   "metadata": {},
   "source": [
    "## Answer\n",
    "Just 5 nested for loops.  \n",
    "The idea here is to only loop the following loop over the new primes.  \n",
    "I assume an upper limit of 10000 for the primes."
   ]
  },
  {
   "cell_type": "markdown",
   "metadata": {},
   "source": [
    "### Generate all primes below upper limit"
   ]
  },
  {
   "cell_type": "code",
   "execution_count": 3,
   "metadata": {},
   "outputs": [],
   "source": [
    "primes = [2]\n",
    "\n",
    "upper_limit = 10000\n",
    "for i in range(3, upper_limit, 2):\n",
    "    if check_prime(i):\n",
    "        primes.append(i)"
   ]
  },
  {
   "cell_type": "markdown",
   "metadata": {},
   "source": [
    "### Create all valid prime pairs"
   ]
  },
  {
   "cell_type": "code",
   "execution_count": 4,
   "metadata": {},
   "outputs": [],
   "source": [
    "valid_pairs = set()\n",
    "for a_idx, a in enumerate(primes):\n",
    "    for b in primes[a_idx:]:\n",
    "        if make_pair(a, b):\n",
    "            valid_pairs.add(tuple((a, b)))"
   ]
  },
  {
   "cell_type": "markdown",
   "metadata": {},
   "source": [
    "## Loop"
   ]
  },
  {
   "cell_type": "code",
   "execution_count": 5,
   "metadata": {},
   "outputs": [
    {
     "name": "stdout",
     "output_type": "stream",
     "text": [
      "Found new: (13, 5197, 5701, 6733, 8389) 26033\n",
      "\n",
      "26033\n"
     ]
    }
   ],
   "source": [
    "max_value = 10**10\n",
    "for idxa, a in enumerate(primes):\n",
    "    for idxb, b in enumerate(primes[idxa:]):\n",
    "        if not tuple((a, b)) in valid_pairs:\n",
    "            continue\n",
    "        for idxc, c in enumerate(primes[idxb:]):\n",
    "            if not tuple((a, c)) in valid_pairs:\n",
    "                continue\n",
    "            if not tuple((b, c)) in valid_pairs:\n",
    "                continue\n",
    "            for idxd, d in enumerate(primes[idxc:]):\n",
    "                if not tuple((a, d)) in valid_pairs:\n",
    "                    continue\n",
    "                if not tuple((b, d)) in valid_pairs:\n",
    "                    continue\n",
    "                if not tuple((c, d)) in valid_pairs:\n",
    "                    continue\n",
    "                for idxe, e in enumerate(primes[idxd:]):\n",
    "                    if not tuple((a, e)) in valid_pairs:\n",
    "                        continue\n",
    "                    if not tuple((b, e)) in valid_pairs:\n",
    "                        continue\n",
    "                    if not tuple((c, e)) in valid_pairs:\n",
    "                        continue\n",
    "                    if not tuple((d, e)) in valid_pairs:\n",
    "                        continue\n",
    "                    tmp_sum = a + b + c + d + e\n",
    "                    print(f'Found new: ({a}, {b}, {c}, {d}, {e}) {tmp_sum}')\n",
    "                    max_value = tmp_sum if tmp_sum < max_value else max_value\n",
    "\n",
    "print()\n",
    "print(max_value)"
   ]
  }
 ],
 "metadata": {
  "kernelspec": {
   "display_name": "Python 3",
   "language": "python",
   "name": "python3"
  },
  "language_info": {
   "codemirror_mode": {
    "name": "ipython",
    "version": 3
   },
   "file_extension": ".py",
   "mimetype": "text/x-python",
   "name": "python",
   "nbconvert_exporter": "python",
   "pygments_lexer": "ipython3",
   "version": "3.7.3"
  }
 },
 "nbformat": 4,
 "nbformat_minor": 2
}
