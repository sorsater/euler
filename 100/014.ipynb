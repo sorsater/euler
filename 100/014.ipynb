{
 "cells": [
  {
   "cell_type": "markdown",
   "metadata": {},
   "source": [
    "The following iterative sequence is defined for the set of positive integers:\n",
    "\n",
    "n → n/2 (n is even)  \n",
    "n → 3n + 1 (n is odd)\n",
    "\n",
    "Using the rule above and starting with 13, we generate the following sequence:\n",
    "\n",
    "13 → 40 → 20 → 10 → 5 → 16 → 8 → 4 → 2 → 1\n",
    "\n",
    "It can be seen that this sequence (starting at 13 and finishing at 1) contains 10 terms. Although it has not been proved yet (Collatz Problem), it is thought that all starting numbers finish at 1.\n",
    "\n",
    "Which starting number, under one million, produces the longest chain?\n",
    "\n",
    "NOTE: Once the chain starts the terms are allowed to go above one million."
   ]
  },
  {
   "cell_type": "code",
   "execution_count": 1,
   "metadata": {},
   "outputs": [],
   "source": [
    "import time"
   ]
  },
  {
   "cell_type": "code",
   "execution_count": 2,
   "metadata": {},
   "outputs": [],
   "source": [
    "memory = {}\n",
    "def sequence_generator(start_number, use_memory=False):\n",
    "    n = start_number\n",
    "    terms = [n]\n",
    "    while not n == 1:\n",
    "        # We have something already in memory, update and return\n",
    "        if use_memory and n in memory:\n",
    "            if start_number not in memory:\n",
    "                memory[start_number] = memory[n] + len(terms)\n",
    "            return memory[n] + len(terms)\n",
    "        if n % 2 == 0:\n",
    "            n = n // 2\n",
    "        else:\n",
    "            n = 3 * n + 1\n",
    "        terms.append(n)\n",
    "\n",
    "    # Not previously seen, add to memory\n",
    "    if use_memory and start_number not in memory:\n",
    "        memory[start_number] = len(terms)\n",
    "    return len(terms)"
   ]
  },
  {
   "cell_type": "markdown",
   "metadata": {},
   "source": [
    "## Test"
   ]
  },
  {
   "cell_type": "code",
   "execution_count": 3,
   "metadata": {},
   "outputs": [
    {
     "name": "stdout",
     "output_type": "stream",
     "text": [
      "10\n"
     ]
    }
   ],
   "source": [
    "num_terms = sequence_generator(13)\n",
    "print(num_terms)"
   ]
  },
  {
   "cell_type": "markdown",
   "metadata": {},
   "source": [
    "## Answer - simple"
   ]
  },
  {
   "cell_type": "code",
   "execution_count": 4,
   "metadata": {},
   "outputs": [
    {
     "name": "stdout",
     "output_type": "stream",
     "text": [
      "837799\n",
      "Took: 25.06 seconds\n"
     ]
    }
   ],
   "source": [
    "start = time.time()\n",
    "terms = []\n",
    "for i in range(1, 1000000):\n",
    "    num_terms = sequence_generator(i, use_memory=False)\n",
    "    terms.append([num_terms, i])\n",
    "terms.sort()\n",
    "print(terms[-1][1])\n",
    "print('Took: {:.2f} seconds'.format(time.time() - start))"
   ]
  },
  {
   "cell_type": "markdown",
   "metadata": {},
   "source": [
    "## Answer - with memory"
   ]
  },
  {
   "cell_type": "code",
   "execution_count": 5,
   "metadata": {},
   "outputs": [
    {
     "name": "stdout",
     "output_type": "stream",
     "text": [
      "837799\n",
      "Took: 4.40 seconds\n"
     ]
    }
   ],
   "source": [
    "start = time.time()\n",
    "terms = []\n",
    "for i in range(1, 1000000):\n",
    "    num_terms = sequence_generator(i, use_memory=True)\n",
    "    terms.append([num_terms, i])\n",
    "terms.sort()\n",
    "print(terms[-1][1])\n",
    "print('Took: {:.2f} seconds'.format(time.time() - start))"
   ]
  }
 ],
 "metadata": {
  "kernelspec": {
   "display_name": "Python 3",
   "language": "python",
   "name": "python3"
  },
  "language_info": {
   "codemirror_mode": {
    "name": "ipython",
    "version": 3
   },
   "file_extension": ".py",
   "mimetype": "text/x-python",
   "name": "python",
   "nbconvert_exporter": "python",
   "pygments_lexer": "ipython3",
   "version": "3.7.3"
  }
 },
 "nbformat": 4,
 "nbformat_minor": 2
}
