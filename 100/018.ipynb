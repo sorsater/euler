{
 "cells": [
  {
   "cell_type": "markdown",
   "metadata": {},
   "source": [
    "By starting at the top of the triangle below and moving to adjacent numbers on the row below, the maximum total from top to bottom is 23.\n",
    "\n",
    "```\n",
    "   3  \n",
    "  7 4  \n",
    " 2 4 6  \n",
    "8 5 9 3  \n",
    "```\n",
    "That is, 3 + 7 + 4 + 9 = 23.\n",
    "\n",
    "Find the maximum total from top to bottom of the triangle below:\n",
    "\n",
    "TRIANGLE\n",
    "\n",
    "NOTE: As there are only 16384 routes, it is possible to solve this problem by trying every route. However, Problem 67, is the same challenge with a triangle containing one-hundred rows; it cannot be solved by brute force, and requires a clever method! ;o)"
   ]
  },
  {
   "cell_type": "markdown",
   "metadata": {},
   "source": [
    "## Analysis\n",
    "As the description says, brute force is not an option.  \n",
    "We use dynamic programming.  \n",
    "\n",
    "This solution works for both 018 and 067 and both results are given here."
   ]
  },
  {
   "cell_type": "markdown",
   "metadata": {},
   "source": [
    "## Create grid\n",
    "I create a grid with the the double width, to easier check parents.  \n",
    "Grid stored in dictionary to easier avoid IndexError."
   ]
  },
  {
   "cell_type": "code",
   "execution_count": 1,
   "metadata": {},
   "outputs": [],
   "source": [
    "def create_grid(data):\n",
    "    grid = {}\n",
    "    depth = len(data)\n",
    "\n",
    "    # Create two list of indexes, depending on where we are in grid\n",
    "    odd, even = [], []\n",
    "    for i in range(depth * 2 - 1):\n",
    "        if i % 2 == 0:\n",
    "            even.append(i)\n",
    "        else:\n",
    "            odd.append(i)\n",
    "\n",
    "    # Loop over all data\n",
    "    for line_idx, line in enumerate(data):\n",
    "        indexes = odd if (depth - line_idx) % 2 == 0 else even\n",
    "        num_elems = len(line)\n",
    "        slices = (len(indexes) - num_elems) // 2\n",
    "        res = indexes[slices:len(indexes) - slices]\n",
    "        for elem_idx, elem in enumerate(line):\n",
    "            grid[tuple((line_idx, res[elem_idx]))] = [elem]\n",
    "    \n",
    "    return grid"
   ]
  },
  {
   "cell_type": "markdown",
   "metadata": {},
   "source": [
    "## Traverse grid\n",
    "Starting at the bottom, append values to the parents.  \n",
    "If we have more than 1 value (children has given values), update with largest contribution."
   ]
  },
  {
   "cell_type": "code",
   "execution_count": 2,
   "metadata": {},
   "outputs": [],
   "source": [
    "def traverse_grid(grid):\n",
    "    # Start at the bottom and go upwards\n",
    "    for key in sorted(list(grid.keys()), reverse=True):\n",
    "        cur_val = grid[key]\n",
    "\n",
    "        # Only two (on the edge)\n",
    "        if len(cur_val) == 2:\n",
    "            cur_val = sum(cur_val)\n",
    "        # Three, two children\n",
    "        elif len(cur_val) == 3:\n",
    "            cur_val = cur_val[0] + max(cur_val[1:])\n",
    "        # Bottom\n",
    "        else:\n",
    "            cur_val = cur_val[0]\n",
    "\n",
    "        grid[key] = cur_val\n",
    "        up_left = tuple((key[0] - 1, key[1] - 1))\n",
    "        up_right = tuple((key[0] - 1, key[1] + 1))\n",
    "\n",
    "        if up_left in grid:\n",
    "            grid[up_left].append(cur_val)\n",
    "        if up_right in grid:\n",
    "            grid[up_right].append(cur_val)\n",
    "    print(grid[sorted(grid.keys())[0]])"
   ]
  },
  {
   "cell_type": "code",
   "execution_count": 3,
   "metadata": {},
   "outputs": [],
   "source": [
    "def run_problem(file_name):\n",
    "    data = open(file_name).read().splitlines()\n",
    "    data = [list(map(int, line.split(' '))) for line in data]\n",
    "    \n",
    "    grid = create_grid(data)\n",
    "    traverse_grid(grid)"
   ]
  },
  {
   "cell_type": "markdown",
   "metadata": {},
   "source": [
    "## Answer 018"
   ]
  },
  {
   "cell_type": "code",
   "execution_count": 4,
   "metadata": {},
   "outputs": [
    {
     "name": "stdout",
     "output_type": "stream",
     "text": [
      "1074\n"
     ]
    }
   ],
   "source": [
    "run_problem('../inputs/018.txt')"
   ]
  },
  {
   "cell_type": "markdown",
   "metadata": {},
   "source": [
    "## Answer 067"
   ]
  },
  {
   "cell_type": "code",
   "execution_count": 5,
   "metadata": {},
   "outputs": [
    {
     "name": "stdout",
     "output_type": "stream",
     "text": [
      "7273\n"
     ]
    }
   ],
   "source": [
    "run_problem('../inputs/067.txt')"
   ]
  }
 ],
 "metadata": {
  "kernelspec": {
   "display_name": "Python 3",
   "language": "python",
   "name": "python3"
  },
  "language_info": {
   "codemirror_mode": {
    "name": "ipython",
    "version": 3
   },
   "file_extension": ".py",
   "mimetype": "text/x-python",
   "name": "python",
   "nbconvert_exporter": "python",
   "pygments_lexer": "ipython3",
   "version": "3.7.3"
  }
 },
 "nbformat": 4,
 "nbformat_minor": 2
}
